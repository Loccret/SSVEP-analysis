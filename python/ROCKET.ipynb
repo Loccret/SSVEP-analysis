{
 "cells": [
  {
   "cell_type": "code",
   "execution_count": 1,
   "id": "f5d7e867-6b87-401c-8bb7-28ff4200e650",
   "metadata": {
    "execution": {
     "iopub.execute_input": "2023-01-10T13:53:18.847648Z",
     "iopub.status.busy": "2023-01-10T13:53:18.846653Z",
     "iopub.status.idle": "2023-01-10T13:53:30.403902Z",
     "shell.execute_reply": "2023-01-10T13:53:30.402894Z",
     "shell.execute_reply.started": "2023-01-10T13:53:18.846653Z"
    },
    "tags": []
   },
   "outputs": [],
   "source": [
    "import pandas as pd\n",
    "import numpy as np\n",
    "import matplotlib.pyplot as plt\n",
    "from matplotlib import cm\n",
    "from sklearn.model_selection import train_test_split\n",
    "from sklearn.utils import shuffle\n",
    "import tsai.all as ts\n",
    "import torch\n",
    "from torch import nn\n",
    "from my_utilities import time_frequency_analysis, mma_Partition, time_frequency_analysis_output_1s\n",
    "from sklearn.linear_model import RidgeClassifierCV\n",
    "\n",
    "import time"
   ]
  },
  {
   "cell_type": "code",
   "execution_count": 1,
   "id": "4d0aa045-f51b-4adf-b746-b4a37dd890e3",
   "metadata": {
    "execution": {
     "iopub.execute_input": "2023-01-05T04:39:24.471891Z",
     "iopub.status.busy": "2023-01-05T04:39:24.470893Z",
     "iopub.status.idle": "2023-01-05T04:39:24.489842Z",
     "shell.execute_reply": "2023-01-05T04:39:24.488845Z",
     "shell.execute_reply.started": "2023-01-05T04:39:24.471891Z"
    },
    "tags": []
   },
   "outputs": [
    {
     "data": {
      "text/plain": [
       "3.0"
      ]
     },
     "execution_count": 1,
     "metadata": {},
     "output_type": "execute_result"
    }
   ],
   "source": [
    "(20000-2000)/6000"
   ]
  },
  {
   "cell_type": "code",
   "execution_count": null,
   "id": "39344026-d0d8-4151-a3fd-54c6e324bf4d",
   "metadata": {
    "execution": {
     "iopub.execute_input": "2023-01-10T13:54:43.113187Z",
     "iopub.status.busy": "2023-01-10T13:54:43.113187Z",
     "iopub.status.idle": "2023-01-10T13:54:49.372281Z",
     "shell.execute_reply": "2023-01-10T13:54:49.371315Z",
     "shell.execute_reply.started": "2023-01-10T13:54:43.113187Z"
    },
    "tags": []
   },
   "outputs": [],
   "source": [
    "srate = 2000\n",
    "new_srate = 200\n",
    "sec = 1 # time step length\n",
    "ele = pd.read_csv('data/ele_4_60_hz.csv', header = None, index_col = None).to_numpy()\n",
    "# shape = (4, 15, 2, 20000, 14)\n",
    "\n",
    "ele = np.reshape(\n",
    "    ele, (20000,15,4,2,14), order = 'F').transpose([2,1,3,0,4])[:,:,:,srate::srate//new_srate,:]\n",
    "\n",
    "\n",
    "ear_ele = ele[...,:8].astype(np.float32).reshape(-1,int(200 * sec),8)\n",
    "head_ele = ele[...,8:].astype(np.float32).reshape(-1,int(200 * sec),6)\n",
    "# labels = np.repeat([0,1,2,3], ear_ele.shape[0]//4)"
   ]
  },
  {
   "cell_type": "code",
   "execution_count": 4,
   "id": "90f69876-3f7d-444b-82c8-524b4315b295",
   "metadata": {
    "execution": {
     "iopub.execute_input": "2023-01-10T13:54:53.008342Z",
     "iopub.status.busy": "2023-01-10T13:54:53.007344Z",
     "iopub.status.idle": "2023-01-10T13:54:53.024298Z",
     "shell.execute_reply": "2023-01-10T13:54:53.024298Z",
     "shell.execute_reply.started": "2023-01-10T13:54:53.008342Z"
    },
    "tags": []
   },
   "outputs": [
    {
     "data": {
      "text/plain": [
       "(1080, 200, 8)"
      ]
     },
     "execution_count": 4,
     "metadata": {},
     "output_type": "execute_result"
    }
   ],
   "source": [
    "ear_ele.shape"
   ]
  },
  {
   "cell_type": "code",
   "execution_count": null,
   "id": "4bb8fa53-8f01-4e34-9667-351776d7e3d9",
   "metadata": {
    "execution": {
     "iopub.execute_input": "2023-01-05T04:39:43.739448Z",
     "iopub.status.busy": "2023-01-05T04:39:43.739448Z",
     "iopub.status.idle": "2023-01-05T04:39:43.749398Z",
     "shell.execute_reply": "2023-01-05T04:39:43.749398Z",
     "shell.execute_reply.started": "2023-01-05T04:39:43.739448Z"
    },
    "tags": []
   },
   "outputs": [],
   "source": [
    "# np.roll(np.arange(24).reshape(3,8), 1)\n",
    "def roll_window(x, y, stride = 100):\n",
    "    '''\n",
    "    args:\n",
    "        x(sample, channel, time_step): numpy ndarray, must contain the axis which want to be rolled\n",
    "        axis: int, the specific axis\n",
    "        stride: int, step length\n",
    "    '''\n",
    "    x_temp = x.reshape(x.shape[0], x.shape[1],-1,stride)  \n",
    "    strided_x = np.asarray([np.roll(x_temp, shift = i, axis = 2).reshape(x.shape[0], x.shape[1], -1)\\\n",
    "                            for i in np.arange(x_temp.shape[2])])\n",
    "    y = np.tile(y, x_temp.shape[2])\n",
    "    return strided_x.reshape(-1, x.shape[1], x.shape[2]), y"
   ]
  },
  {
   "cell_type": "code",
   "execution_count": 5,
   "id": "d220425a-5843-460a-aaca-a4cbab79b266",
   "metadata": {
    "execution": {
     "iopub.execute_input": "2023-01-10T13:55:52.554709Z",
     "iopub.status.busy": "2023-01-10T13:55:52.553713Z",
     "iopub.status.idle": "2023-01-10T13:56:08.386871Z",
     "shell.execute_reply": "2023-01-10T13:56:08.385857Z",
     "shell.execute_reply.started": "2023-01-10T13:55:52.553713Z"
    },
    "tags": []
   },
   "outputs": [
    {
     "name": "stdout",
     "output_type": "stream",
     "text": [
      "begin to TFA\n"
     ]
    }
   ],
   "source": [
    "# batches, channels, time step\n",
    "ear_ele = ele[...,:8].astype(np.float32).reshape(-1,int(200 * sec),8).transpose([0,2,1])\n",
    "head_ele = ele[...,8:].astype(np.float32).reshape(-1,int(200 * sec),6).transpose([0,2,1])\n",
    "\n",
    "# z-score\n",
    "head_ele = (head_ele - head_ele.mean(axis = 2)[...,np.newaxis])\\\n",
    "                /head_ele.std(axis = 2)[...,np.newaxis]\n",
    "\n",
    "ear_ele = (ear_ele - ear_ele.mean(axis = 2)[...,np.newaxis])\\\n",
    "                /ear_ele.std(axis = 2)[...,np.newaxis]\n",
    "\n",
    "y = np.repeat([0,1,2,3], int(ear_ele.shape[0]/4))\n",
    "\n",
    "################################ TFA #########################\n",
    "print('begin to TFA')\n",
    "mask = np.unique(np.array(list(range(5,59,5))+\n",
    "                          list(range(7,59,7))+\n",
    "                          list(range(9,59,9))+\n",
    "                          list(range(11,59,11))))-2\n",
    "# time frequency analysis for ear-EEG\n",
    "temp_ear_ele = []\n",
    "for i in ear_ele:\n",
    "    _,_,temp = time_frequency_analysis(\n",
    "        i.T, srate = new_srate, max_freq = 60, min_freq = 2, num_freq = 59, fwhm = 0.35)\n",
    "    # _,_,temp = time_frequency_analysis_output_1s(\n",
    "    #     i.T, srate = new_srate, max_freq = 60, min_freq = 2, num_freq = 59, fwhm = 1)    \n",
    "    temp_ear_ele.append(temp)\n",
    "    \n",
    "# if use mask\n",
    "ear_ele = np.asarray(temp_ear_ele)[:,mask,:]\n",
    "\n",
    "# # if do not use mask\n",
    "# ear_ele = np.asarray(temp_ear_ele)\n",
    "del temp_ear_ele\n",
    "##############################################################\n",
    "\n",
    "\n",
    "ear_X_train, ear_X_test, ear_y_train, ear_y_test = train_test_split(ear_ele, y, test_size=0.1)\n",
    "# head_X_train, head_X_test, head_y_train, head_y_test = train_test_split(head_ele, y, test_size=0.1)\n",
    "# ################# DATA generate ##############################\n",
    "# ear_X_train, ear_y_train = roll_window(ear_X_train, ear_y_train)\n",
    "# ear_X_train, ear_y_train = shuffle(ear_X_train, ear_y_train)\n",
    "##############################################################\n",
    "ear_ele, ear_y, ear_splits = ts.combine_split_data([ear_X_train, ear_X_test], [ear_y_train, ear_y_test])"
   ]
  },
  {
   "cell_type": "code",
   "execution_count": 6,
   "id": "ea4440d4-a543-4feb-8338-cdaf51136268",
   "metadata": {
    "execution": {
     "iopub.execute_input": "2023-01-10T13:56:10.591441Z",
     "iopub.status.busy": "2023-01-10T13:56:10.591441Z",
     "iopub.status.idle": "2023-01-10T13:56:10.601414Z",
     "shell.execute_reply": "2023-01-10T13:56:10.600417Z",
     "shell.execute_reply.started": "2023-01-10T13:56:10.591441Z"
    },
    "tags": []
   },
   "outputs": [
    {
     "data": {
      "text/plain": [
       "(972, 27, 200)"
      ]
     },
     "execution_count": 6,
     "metadata": {},
     "output_type": "execute_result"
    }
   ],
   "source": [
    "ear_X_train.shape"
   ]
  },
  {
   "cell_type": "code",
   "execution_count": null,
   "id": "15ec367e-9045-432b-aac8-4e15010cb948",
   "metadata": {
    "execution": {
     "iopub.execute_input": "2023-01-04T06:45:15.914270Z",
     "iopub.status.busy": "2023-01-04T06:45:15.913273Z",
     "iopub.status.idle": "2023-01-04T06:45:21.345143Z",
     "shell.execute_reply": "2023-01-04T06:45:21.344126Z",
     "shell.execute_reply.started": "2023-01-04T06:45:15.914270Z"
    },
    "jupyter": {
     "source_hidden": true
    },
    "tags": []
   },
   "outputs": [],
   "source": [
    "# batch_tfms = [ts.TSStandardize(by_sample=True)]\n",
    "# tfms  = [None, [ts.Categorize()]]\n",
    "# dls = ts.get_ts_dls(ear_ele, ear_y, \n",
    "#                  splits=ear_splits, \n",
    "#                  tfms=tfms, drop_last=False, \n",
    "#                  shuffle_train=False, batch_tfms=batch_tfms, bs=10_000)\n",
    "\n",
    "# model = ts.build_ts_model(ts.ROCKET, dls=dls)\n",
    "\n",
    "# X_train, y_train = ts.create_rocket_features(dls.train, model)\n",
    "# X_valid, y_valid = ts.create_rocket_features(dls.valid, model)\n",
    "# X_train.shape, X_valid.shape"
   ]
  },
  {
   "cell_type": "code",
   "execution_count": 7,
   "id": "acf50520-c5a7-43de-8fe9-4e600f745668",
   "metadata": {
    "execution": {
     "iopub.execute_input": "2023-01-10T13:56:46.328993Z",
     "iopub.status.busy": "2023-01-10T13:56:46.327995Z",
     "iopub.status.idle": "2023-01-10T13:56:46.351932Z",
     "shell.execute_reply": "2023-01-10T13:56:46.350937Z",
     "shell.execute_reply.started": "2023-01-10T13:56:46.327995Z"
    },
    "tags": []
   },
   "outputs": [],
   "source": [
    "def cross_validation(x, y, cv_number = 20, test_size = 0.1, gen = False):\n",
    "    acc = []\n",
    "    batch_tfms = [ts.TSStandardize(by_sample=True)]\n",
    "    tfms  = [None, [ts.Categorize()]]\n",
    "    \n",
    "    for _ in np.arange(cv_number):\n",
    "        x, y = shuffle(x, y)\n",
    "        X_train, X_test, y_train, y_test = train_test_split(x, y, test_size=test_size)\n",
    "        \n",
    "        if gen:\n",
    "            X_train, y_train = roll_window(X_train, y_train)\n",
    "            X_train, y_train = shuffle(X_train, y_train)\n",
    "            \n",
    "        ear_X, ear_y, splits = ts.combine_split_data([X_train, X_test], [y_train, y_test])\n",
    "        dls = ts.get_ts_dls(ear_X, ear_y, \n",
    "                         splits=splits, \n",
    "                         tfms=tfms, drop_last=False, \n",
    "                         shuffle_train=False, batch_tfms=batch_tfms, bs=10_000)        \n",
    "        model = ts.build_ts_model(ts.ROCKET, dls=dls)\n",
    "        \n",
    "        X_train, y_train = ts.create_rocket_features(dls.train, model)\n",
    "        X_valid, y_valid = ts.create_rocket_features(dls.valid, model)\n",
    "        X_train.shape, X_valid.shape\n",
    "    \n",
    "        ridge = RidgeClassifierCV(alphas=np.logspace(-8, 8, 17), normalize=True)\n",
    "        ridge.fit(X_train, y_train)\n",
    "        print(f'alpha: {ridge.alpha_:.2E}  train: {ridge.score(X_train, y_train):.5f}  valid: {ridge.score(X_valid, y_valid):.5f}')\n",
    "        acc.append(ridge.score(X_valid, y_valid))\n",
    "        \n",
    "    return acc"
   ]
  },
  {
   "cell_type": "code",
   "execution_count": 13,
   "id": "f5798e77-504f-447e-b0c3-59a50a7d2388",
   "metadata": {
    "execution": {
     "iopub.execute_input": "2023-01-04T11:09:58.797336Z",
     "iopub.status.busy": "2023-01-04T11:09:58.796369Z",
     "iopub.status.idle": "2023-01-04T11:09:58.810301Z",
     "shell.execute_reply": "2023-01-04T11:09:58.809327Z",
     "shell.execute_reply.started": "2023-01-04T11:09:58.796369Z"
    }
   },
   "outputs": [
    {
     "data": {
      "text/plain": [
       "array([0.7       , 0.76041667, 0.68958333, 0.68958333, 0.70833333,\n",
       "       0.71666667, 0.68333333, 0.69166667, 0.67916667, 0.67916667])"
      ]
     },
     "execution_count": 13,
     "metadata": {},
     "output_type": "execute_result"
    }
   ],
   "source": [
    "# np.asarray(acc_total).mean(axis = 1)"
   ]
  },
  {
   "cell_type": "code",
   "execution_count": 8,
   "id": "d99aed02-1b10-4c62-8f19-8bf6a3dee52d",
   "metadata": {
    "execution": {
     "iopub.execute_input": "2023-01-10T13:57:27.464335Z",
     "iopub.status.busy": "2023-01-10T13:57:27.463325Z",
     "iopub.status.idle": "2023-01-10T16:33:20.898620Z",
     "shell.execute_reply": "2023-01-10T16:33:20.897624Z",
     "shell.execute_reply.started": "2023-01-10T13:57:27.464335Z"
    },
    "scrolled": true,
    "tags": []
   },
   "outputs": [
    {
     "name": "stdout",
     "output_type": "stream",
     "text": [
      "alpha: 1.00E+02  train: 0.62346  valid: 0.46296\n",
      "alpha: 1.00E+01  train: 0.90535  valid: 0.44444\n",
      "alpha: 1.00E+02  train: 0.60597  valid: 0.49074\n",
      "alpha: 1.00E+02  train: 0.61317  valid: 0.48148\n",
      "alpha: 1.00E+02  train: 0.60802  valid: 0.48148\n",
      "alpha: 1.00E+02  train: 0.59979  valid: 0.47222\n",
      "alpha: 1.00E+02  train: 0.61317  valid: 0.42593\n",
      "alpha: 1.00E+02  train: 0.60802  valid: 0.47222\n",
      "alpha: 1.00E+02  train: 0.61831  valid: 0.53704\n",
      "alpha: 1.00E+02  train: 0.60700  valid: 0.50000\n",
      "alpha: 1.00E+02  train: 0.61934  valid: 0.41667\n",
      "alpha: 1.00E+02  train: 0.61420  valid: 0.50000\n",
      "alpha: 1.00E+02  train: 0.61934  valid: 0.47222\n",
      "alpha: 1.00E+02  train: 0.60185  valid: 0.43519\n",
      "alpha: 1.00E+02  train: 0.62140  valid: 0.33333\n",
      "alpha: 1.00E+02  train: 0.61008  valid: 0.42593\n",
      "alpha: 1.00E+02  train: 0.59877  valid: 0.54630\n",
      "alpha: 1.00E+02  train: 0.61523  valid: 0.37963\n",
      "alpha: 1.00E+02  train: 0.60391  valid: 0.53704\n",
      "alpha: 1.00E+02  train: 0.61523  valid: 0.43519\n",
      "step:0\n",
      "alpha: 1.00E+02  train: 0.60082  valid: 0.46296\n",
      "alpha: 1.00E+01  train: 0.90123  valid: 0.47222\n",
      "alpha: 1.00E+02  train: 0.61008  valid: 0.47222\n",
      "alpha: 1.00E+02  train: 0.61317  valid: 0.44444\n",
      "alpha: 1.00E+02  train: 0.62037  valid: 0.47222\n",
      "alpha: 1.00E+02  train: 0.61214  valid: 0.50926\n",
      "alpha: 1.00E+02  train: 0.61626  valid: 0.48148\n",
      "alpha: 1.00E+02  train: 0.60185  valid: 0.49074\n",
      "alpha: 1.00E+02  train: 0.61317  valid: 0.48148\n",
      "alpha: 1.00E+02  train: 0.61317  valid: 0.49074\n",
      "alpha: 1.00E+02  train: 0.61728  valid: 0.45370\n",
      "alpha: 1.00E+02  train: 0.61008  valid: 0.39815\n",
      "alpha: 1.00E+02  train: 0.61523  valid: 0.50000\n",
      "alpha: 1.00E+02  train: 0.61111  valid: 0.38889\n",
      "alpha: 1.00E+02  train: 0.60494  valid: 0.48148\n",
      "alpha: 1.00E+02  train: 0.62140  valid: 0.39815\n",
      "alpha: 1.00E+02  train: 0.62037  valid: 0.40741\n",
      "alpha: 1.00E+02  train: 0.61420  valid: 0.43519\n",
      "alpha: 1.00E+02  train: 0.62449  valid: 0.37037\n",
      "alpha: 1.00E+02  train: 0.61214  valid: 0.52778\n",
      "step:1\n",
      "alpha: 1.00E+02  train: 0.60597  valid: 0.43519\n",
      "alpha: 1.00E+02  train: 0.60905  valid: 0.48148\n",
      "alpha: 1.00E+02  train: 0.60700  valid: 0.44444\n",
      "alpha: 1.00E+02  train: 0.62346  valid: 0.38889\n",
      "alpha: 1.00E+02  train: 0.61214  valid: 0.46296\n",
      "alpha: 1.00E+02  train: 0.60700  valid: 0.39815\n",
      "alpha: 1.00E+01  train: 0.91255  valid: 0.33333\n",
      "alpha: 1.00E+02  train: 0.61420  valid: 0.44444\n",
      "alpha: 1.00E+02  train: 0.61934  valid: 0.42593\n",
      "alpha: 1.00E+02  train: 0.60905  valid: 0.50000\n",
      "alpha: 1.00E+02  train: 0.60494  valid: 0.40741\n",
      "alpha: 1.00E+02  train: 0.61831  valid: 0.44444\n",
      "alpha: 1.00E+02  train: 0.59671  valid: 0.50000\n",
      "alpha: 1.00E+02  train: 0.60597  valid: 0.60185\n",
      "alpha: 1.00E+02  train: 0.61111  valid: 0.47222\n",
      "alpha: 1.00E+02  train: 0.60082  valid: 0.46296\n",
      "alpha: 1.00E+02  train: 0.61317  valid: 0.43519\n",
      "alpha: 1.00E+02  train: 0.61317  valid: 0.52778\n",
      "alpha: 1.00E+02  train: 0.59774  valid: 0.52778\n",
      "alpha: 1.00E+02  train: 0.59671  valid: 0.47222\n",
      "step:2\n",
      "alpha: 1.00E+02  train: 0.59568  valid: 0.51852\n",
      "alpha: 1.00E+02  train: 0.61523  valid: 0.48148\n",
      "alpha: 1.00E+01  train: 0.90535  valid: 0.41667\n",
      "alpha: 1.00E+01  train: 0.89918  valid: 0.37037\n",
      "alpha: 1.00E+02  train: 0.61420  valid: 0.43519\n",
      "alpha: 1.00E+02  train: 0.62243  valid: 0.42593\n",
      "alpha: 1.00E+02  train: 0.60288  valid: 0.48148\n",
      "alpha: 1.00E+02  train: 0.61214  valid: 0.36111\n",
      "alpha: 1.00E+02  train: 0.60700  valid: 0.46296\n",
      "alpha: 1.00E+02  train: 0.61523  valid: 0.45370\n",
      "alpha: 1.00E+02  train: 0.61934  valid: 0.44444\n",
      "alpha: 1.00E+02  train: 0.62346  valid: 0.43519\n",
      "alpha: 1.00E+02  train: 0.60905  valid: 0.51852\n",
      "alpha: 1.00E+02  train: 0.59671  valid: 0.49074\n",
      "alpha: 1.00E+02  train: 0.60391  valid: 0.46296\n",
      "alpha: 1.00E+01  train: 0.90535  valid: 0.48148\n",
      "alpha: 1.00E+02  train: 0.60288  valid: 0.46296\n",
      "alpha: 1.00E+02  train: 0.61626  valid: 0.46296\n",
      "alpha: 1.00E+02  train: 0.60905  valid: 0.50926\n",
      "alpha: 1.00E+02  train: 0.60185  valid: 0.45370\n",
      "step:3\n",
      "alpha: 1.00E+02  train: 0.60185  valid: 0.48148\n",
      "alpha: 1.00E+02  train: 0.60082  valid: 0.46296\n",
      "alpha: 1.00E+02  train: 0.59362  valid: 0.49074\n",
      "alpha: 1.00E+02  train: 0.60391  valid: 0.50000\n",
      "alpha: 1.00E+02  train: 0.61934  valid: 0.42593\n",
      "alpha: 1.00E+02  train: 0.60700  valid: 0.42593\n",
      "alpha: 1.00E+02  train: 0.59774  valid: 0.51852\n",
      "alpha: 1.00E+01  train: 0.91152  valid: 0.40741\n",
      "alpha: 1.00E+02  train: 0.60905  valid: 0.47222\n",
      "alpha: 1.00E+02  train: 0.59877  valid: 0.42593\n",
      "alpha: 1.00E+02  train: 0.61008  valid: 0.48148\n",
      "alpha: 1.00E+02  train: 0.60905  valid: 0.50000\n",
      "alpha: 1.00E+02  train: 0.61111  valid: 0.45370\n",
      "alpha: 1.00E+02  train: 0.60288  valid: 0.43519\n",
      "alpha: 1.00E+01  train: 0.90844  valid: 0.42593\n",
      "alpha: 1.00E+02  train: 0.61420  valid: 0.43519\n",
      "alpha: 1.00E+02  train: 0.59568  valid: 0.50000\n",
      "alpha: 1.00E+02  train: 0.60597  valid: 0.36111\n",
      "alpha: 1.00E+02  train: 0.61008  valid: 0.45370\n",
      "alpha: 1.00E+01  train: 0.90226  valid: 0.46296\n",
      "step:4\n",
      "alpha: 1.00E+02  train: 0.60802  valid: 0.50926\n",
      "alpha: 1.00E+02  train: 0.59774  valid: 0.62037\n",
      "alpha: 1.00E+02  train: 0.61317  valid: 0.56481\n",
      "alpha: 1.00E+02  train: 0.61626  valid: 0.50926\n",
      "alpha: 1.00E+02  train: 0.61214  valid: 0.46296\n",
      "alpha: 1.00E+02  train: 0.60288  valid: 0.51852\n",
      "alpha: 1.00E+02  train: 0.61523  valid: 0.50000\n",
      "alpha: 1.00E+02  train: 0.61317  valid: 0.45370\n",
      "alpha: 1.00E+02  train: 0.61317  valid: 0.53704\n",
      "alpha: 1.00E+02  train: 0.60391  valid: 0.47222\n",
      "alpha: 1.00E+02  train: 0.61317  valid: 0.50926\n",
      "alpha: 1.00E+02  train: 0.61111  valid: 0.43519\n",
      "alpha: 1.00E+01  train: 0.91255  valid: 0.45370\n",
      "alpha: 1.00E+02  train: 0.60905  valid: 0.44444\n",
      "alpha: 1.00E+02  train: 0.61008  valid: 0.47222\n",
      "alpha: 1.00E+02  train: 0.60597  valid: 0.44444\n",
      "alpha: 1.00E+02  train: 0.59979  valid: 0.46296\n",
      "alpha: 1.00E+02  train: 0.60802  valid: 0.47222\n",
      "alpha: 1.00E+01  train: 0.90123  valid: 0.40741\n",
      "alpha: 1.00E+02  train: 0.61626  valid: 0.54630\n",
      "step:5\n",
      "alpha: 1.00E+02  train: 0.60905  valid: 0.39815\n",
      "alpha: 1.00E+02  train: 0.60597  valid: 0.45370\n",
      "alpha: 1.00E+02  train: 0.60082  valid: 0.44444\n",
      "alpha: 1.00E+02  train: 0.62140  valid: 0.44444\n",
      "alpha: 1.00E+02  train: 0.61626  valid: 0.47222\n",
      "alpha: 1.00E+02  train: 0.60802  valid: 0.42593\n",
      "alpha: 1.00E+02  train: 0.62449  valid: 0.44444\n",
      "alpha: 1.00E+02  train: 0.60185  valid: 0.50000\n",
      "alpha: 1.00E+02  train: 0.59671  valid: 0.42593\n",
      "alpha: 1.00E+02  train: 0.60494  valid: 0.46296\n",
      "alpha: 1.00E+01  train: 0.90844  valid: 0.38889\n",
      "alpha: 1.00E+02  train: 0.61626  valid: 0.50926\n",
      "alpha: 1.00E+02  train: 0.61934  valid: 0.49074\n",
      "alpha: 1.00E+02  train: 0.60700  valid: 0.50000\n",
      "alpha: 1.00E+02  train: 0.59979  valid: 0.43519\n",
      "alpha: 1.00E+02  train: 0.60802  valid: 0.50926\n",
      "alpha: 1.00E+02  train: 0.60700  valid: 0.48148\n",
      "alpha: 1.00E+02  train: 0.61831  valid: 0.43519\n",
      "alpha: 1.00E+02  train: 0.61008  valid: 0.35185\n",
      "alpha: 1.00E+02  train: 0.60185  valid: 0.43519\n",
      "step:6\n",
      "alpha: 1.00E+02  train: 0.61008  valid: 0.43519\n",
      "alpha: 1.00E+02  train: 0.61934  valid: 0.38889\n",
      "alpha: 1.00E+02  train: 0.60391  valid: 0.48148\n",
      "alpha: 1.00E+02  train: 0.61728  valid: 0.49074\n",
      "alpha: 1.00E+02  train: 0.61008  valid: 0.37037\n",
      "alpha: 1.00E+02  train: 0.60597  valid: 0.42593\n",
      "alpha: 1.00E+02  train: 0.61626  valid: 0.51852\n",
      "alpha: 1.00E+02  train: 0.60905  valid: 0.44444\n",
      "alpha: 1.00E+02  train: 0.61111  valid: 0.42593\n",
      "alpha: 1.00E+02  train: 0.60802  valid: 0.48148\n",
      "alpha: 1.00E+02  train: 0.59465  valid: 0.46296\n",
      "alpha: 1.00E+02  train: 0.61317  valid: 0.47222\n",
      "alpha: 1.00E+02  train: 0.61523  valid: 0.55556\n",
      "alpha: 1.00E+02  train: 0.60597  valid: 0.41667\n",
      "alpha: 1.00E+02  train: 0.60597  valid: 0.46296\n",
      "alpha: 1.00E+02  train: 0.60185  valid: 0.52778\n",
      "alpha: 1.00E+02  train: 0.62346  valid: 0.44444\n",
      "alpha: 1.00E+02  train: 0.60905  valid: 0.45370\n",
      "alpha: 1.00E+02  train: 0.60905  valid: 0.44444\n",
      "alpha: 1.00E+02  train: 0.61214  valid: 0.41667\n",
      "step:7\n",
      "alpha: 1.00E+02  train: 0.61214  valid: 0.48148\n",
      "alpha: 1.00E+02  train: 0.61008  valid: 0.44444\n",
      "alpha: 1.00E+02  train: 0.60802  valid: 0.45370\n",
      "alpha: 1.00E+01  train: 0.90844  valid: 0.38889\n",
      "alpha: 1.00E+02  train: 0.61523  valid: 0.42593\n",
      "alpha: 1.00E+02  train: 0.62243  valid: 0.41667\n",
      "alpha: 1.00E+02  train: 0.61523  valid: 0.40741\n",
      "alpha: 1.00E+02  train: 0.61831  valid: 0.45370\n",
      "alpha: 1.00E+02  train: 0.60494  valid: 0.44444\n",
      "alpha: 1.00E+02  train: 0.60082  valid: 0.50000\n",
      "alpha: 1.00E+02  train: 0.61008  valid: 0.46296\n",
      "alpha: 1.00E+02  train: 0.61934  valid: 0.40741\n",
      "alpha: 1.00E+02  train: 0.61523  valid: 0.48148\n",
      "alpha: 1.00E+02  train: 0.61728  valid: 0.37963\n",
      "alpha: 1.00E+02  train: 0.60802  valid: 0.51852\n",
      "alpha: 1.00E+02  train: 0.60802  valid: 0.42593\n",
      "alpha: 1.00E+02  train: 0.60905  valid: 0.42593\n",
      "alpha: 1.00E+02  train: 0.59465  valid: 0.52778\n",
      "alpha: 1.00E+02  train: 0.61008  valid: 0.45370\n",
      "alpha: 1.00E+02  train: 0.60700  valid: 0.42593\n",
      "step:8\n",
      "alpha: 1.00E+02  train: 0.59979  valid: 0.50926\n",
      "alpha: 1.00E+02  train: 0.60494  valid: 0.55556\n",
      "alpha: 1.00E+02  train: 0.60391  valid: 0.53704\n",
      "alpha: 1.00E+02  train: 0.62037  valid: 0.42593\n",
      "alpha: 1.00E+02  train: 0.60288  valid: 0.46296\n",
      "alpha: 1.00E+02  train: 0.61214  valid: 0.40741\n",
      "alpha: 1.00E+02  train: 0.60802  valid: 0.46296\n",
      "alpha: 1.00E+02  train: 0.61008  valid: 0.42593\n",
      "alpha: 1.00E+02  train: 0.60700  valid: 0.52778\n",
      "alpha: 1.00E+02  train: 0.60700  valid: 0.48148\n",
      "alpha: 1.00E+02  train: 0.59979  valid: 0.47222\n",
      "alpha: 1.00E+02  train: 0.60597  valid: 0.49074\n",
      "alpha: 1.00E+02  train: 0.59568  valid: 0.51852\n",
      "alpha: 1.00E+02  train: 0.60597  valid: 0.54630\n",
      "alpha: 1.00E+02  train: 0.61214  valid: 0.49074\n",
      "alpha: 1.00E+02  train: 0.61317  valid: 0.48148\n",
      "alpha: 1.00E+02  train: 0.60391  valid: 0.42593\n",
      "alpha: 1.00E+02  train: 0.61317  valid: 0.43519\n",
      "alpha: 1.00E+02  train: 0.61111  valid: 0.50000\n",
      "alpha: 1.00E+02  train: 0.60288  valid: 0.51852\n",
      "step:9\n"
     ]
    }
   ],
   "source": [
    "acc_total = []\n",
    "for i in np.arange(10):\n",
    "    acc_total.append(cross_validation(ear_ele, ear_y, cv_number = 20, test_size = 0.1))\n",
    "    print(f'step:{i}')\n",
    "\n",
    "# acc = cross_validation(ear_ele, ear_y, cv_number = 20, test_size = 0.1, gen = False)"
   ]
  },
  {
   "cell_type": "code",
   "execution_count": 20,
   "id": "9f65a7f6-7c48-4b5b-8466-c19bade3b844",
   "metadata": {
    "execution": {
     "iopub.execute_input": "2023-01-05T04:58:09.852913Z",
     "iopub.status.busy": "2023-01-05T04:58:09.852913Z",
     "iopub.status.idle": "2023-01-05T04:58:09.868844Z",
     "shell.execute_reply": "2023-01-05T04:58:09.867873Z",
     "shell.execute_reply.started": "2023-01-05T04:58:09.852913Z"
    },
    "tags": []
   },
   "outputs": [
    {
     "data": {
      "text/plain": [
       "0.6597222222222222"
      ]
     },
     "execution_count": 20,
     "metadata": {},
     "output_type": "execute_result"
    }
   ],
   "source": [
    "np.asarray(acc).mean()"
   ]
  },
  {
   "cell_type": "code",
   "execution_count": 28,
   "id": "e7b32117-aeff-408b-9b2c-c23dd19e8766",
   "metadata": {
    "execution": {
     "iopub.execute_input": "2023-01-05T03:51:51.125302Z",
     "iopub.status.busy": "2023-01-05T03:51:51.125302Z",
     "iopub.status.idle": "2023-01-05T03:51:51.145219Z",
     "shell.execute_reply": "2023-01-05T03:51:51.144251Z",
     "shell.execute_reply.started": "2023-01-05T03:51:51.125302Z"
    },
    "tags": []
   },
   "outputs": [],
   "source": [
    "# pd.DataFrame(acc, columns=['1s']).to_csv(r'result/ROCKET_ACC.csv', index= None)"
   ]
  },
  {
   "cell_type": "code",
   "execution_count": 44,
   "id": "a891bf30-3875-437c-8f85-a69434fc5eb6",
   "metadata": {
    "execution": {
     "iopub.execute_input": "2023-01-05T04:28:29.528874Z",
     "iopub.status.busy": "2023-01-05T04:28:29.527915Z",
     "iopub.status.idle": "2023-01-05T04:28:29.548847Z",
     "shell.execute_reply": "2023-01-05T04:28:29.547846Z",
     "shell.execute_reply.started": "2023-01-05T04:28:29.528874Z"
    },
    "tags": []
   },
   "outputs": [],
   "source": [
    "pd.concat([pd.read_csv(r'result/ROCKET_ACC.csv', header = 0),pd.DataFrame(acc, columns=['3s'])], \n",
    "          axis = 1).to_csv(r'result/ROCKET_ACC.csv', index= None)"
   ]
  },
  {
   "cell_type": "code",
   "execution_count": 49,
   "id": "e8bdc789-07df-47bb-888c-ab7351fd6739",
   "metadata": {
    "execution": {
     "iopub.execute_input": "2023-01-05T04:32:41.462402Z",
     "iopub.status.busy": "2023-01-05T04:32:41.462402Z",
     "iopub.status.idle": "2023-01-05T04:32:41.665303Z",
     "shell.execute_reply": "2023-01-05T04:32:41.664331Z",
     "shell.execute_reply.started": "2023-01-05T04:32:41.462402Z"
    },
    "tags": []
   },
   "outputs": [
    {
     "data": {
      "text/plain": [
       "<AxesSubplot: >"
      ]
     },
     "execution_count": 49,
     "metadata": {},
     "output_type": "execute_result"
    },
    {
     "data": {
      "image/png": "[encoded data removed]",
      "text/plain": [
       "<Figure size 640x480 with 1 Axes>"
      ]
     },
     "metadata": {},
     "output_type": "display_data"
    }
   ],
   "source": [
    "pd.read_csv(r'result/ROCKET_ACC.csv', header = 0).boxplot()"
   ]
  },
  {
   "cell_type": "code",
   "execution_count": 23,
   "id": "f8a0f07e-902b-4d6c-878f-2a87d48364a2",
   "metadata": {
    "execution": {
     "iopub.execute_input": "2023-01-05T11:22:06.449421Z",
     "iopub.status.busy": "2023-01-05T11:22:06.449421Z",
     "iopub.status.idle": "2023-01-05T11:22:06.469340Z",
     "shell.execute_reply": "2023-01-05T11:22:06.468368Z",
     "shell.execute_reply.started": "2023-01-05T11:22:06.449421Z"
    },
    "tags": []
   },
   "outputs": [
    {
     "data": {
      "text/plain": [
       "0.49675925925"
      ]
     },
     "execution_count": 23,
     "metadata": {},
     "output_type": "execute_result"
    }
   ],
   "source": [
    "pd.read_csv(r'result/ROCKET_ACC.csv', header = 0).to_numpy()[:,0].mean()"
   ]
  },
  {
   "cell_type": "code",
   "execution_count": 9,
   "id": "1486d229-2618-43f8-8a0e-cfa27d703185",
   "metadata": {
    "execution": {
     "iopub.execute_input": "2023-01-10T16:33:20.900616Z",
     "iopub.status.busy": "2023-01-10T16:33:20.900616Z",
     "iopub.status.idle": "2023-01-10T16:33:37.469643Z",
     "shell.execute_reply": "2023-01-10T16:33:37.468598Z",
     "shell.execute_reply.started": "2023-01-10T16:33:20.900616Z"
    }
   },
   "outputs": [
    {
     "name": "stdout",
     "output_type": "stream",
     "text": [
      "begin to TFA\n"
     ]
    }
   ],
   "source": [
    "# batches, channels, time step\n",
    "ear_ele = ele[...,:8].astype(np.float32).reshape(-1,int(200 * sec),8).transpose([0,2,1])\n",
    "head_ele = ele[...,8:].astype(np.float32).reshape(-1,int(200 * sec),6).transpose([0,2,1])\n",
    "\n",
    "# z-score\n",
    "head_ele = (head_ele - head_ele.mean(axis = 2)[...,np.newaxis])\\\n",
    "                /head_ele.std(axis = 2)[...,np.newaxis]\n",
    "\n",
    "ear_ele = (ear_ele - ear_ele.mean(axis = 2)[...,np.newaxis])\\\n",
    "                /ear_ele.std(axis = 2)[...,np.newaxis]\n",
    "\n",
    "y = np.repeat([0,1,2,3], int(ear_ele.shape[0]/4))\n",
    "\n",
    "################################ TFA #########################\n",
    "print('begin to TFA')\n",
    "mask = np.unique(np.array(list(range(5,59,5))+\n",
    "                          list(range(7,59,7))+\n",
    "                          list(range(9,59,9))+\n",
    "                          list(range(11,59,11))))-2\n",
    "# time frequency analysis for ear-EEG\n",
    "temp_ear_ele = []\n",
    "for i in ear_ele:\n",
    "    _,_,temp = time_frequency_analysis(\n",
    "        i.T, srate = new_srate, max_freq = 60, min_freq = 2, num_freq = 59, fwhm = 0.7)\n",
    "    # _,_,temp = time_frequency_analysis_output_1s(\n",
    "    #     i.T, srate = new_srate, max_freq = 60, min_freq = 2, num_freq = 59, fwhm = 1)    \n",
    "    temp_ear_ele.append(temp)\n",
    "    \n",
    "# if use mask\n",
    "ear_ele = np.asarray(temp_ear_ele)[:,mask,:]\n",
    "\n",
    "# # if do not use mask\n",
    "# ear_ele = np.asarray(temp_ear_ele)\n",
    "del temp_ear_ele\n",
    "##############################################################\n",
    "\n",
    "\n",
    "ear_X_train, ear_X_test, ear_y_train, ear_y_test = train_test_split(ear_ele, y, test_size=0.1)\n",
    "# head_X_train, head_X_test, head_y_train, head_y_test = train_test_split(head_ele, y, test_size=0.1)\n",
    "# ################# DATA generate ##############################\n",
    "# ear_X_train, ear_y_train = roll_window(ear_X_train, ear_y_train)\n",
    "# ear_X_train, ear_y_train = shuffle(ear_X_train, ear_y_train)\n",
    "##############################################################\n",
    "ear_ele, ear_y, ear_splits = ts.combine_split_data([ear_X_train, ear_X_test], [ear_y_train, ear_y_test])"
   ]
  },
  {
   "cell_type": "code",
   "execution_count": 10,
   "id": "cd3d7421-176d-4fc3-9d24-f2b9817bf32f",
   "metadata": {
    "execution": {
     "iopub.execute_input": "2023-01-10T16:33:37.470610Z",
     "iopub.status.busy": "2023-01-10T16:33:37.470610Z",
     "iopub.status.idle": "2023-01-10T19:10:03.445841Z",
     "shell.execute_reply": "2023-01-10T19:10:03.444843Z",
     "shell.execute_reply.started": "2023-01-10T16:33:37.470610Z"
    },
    "scrolled": true,
    "tags": []
   },
   "outputs": [
    {
     "name": "stdout",
     "output_type": "stream",
     "text": [
      "alpha: 1.00E+02  train: 0.59671  valid: 0.47222\n",
      "alpha: 1.00E+02  train: 0.57716  valid: 0.60185\n",
      "alpha: 1.00E+02  train: 0.58642  valid: 0.48148\n",
      "alpha: 1.00E+02  train: 0.61523  valid: 0.38889\n",
      "alpha: 1.00E+01  train: 0.87551  valid: 0.47222\n",
      "alpha: 1.00E+02  train: 0.60082  valid: 0.54630\n",
      "alpha: 1.00E+02  train: 0.59979  valid: 0.43519\n",
      "alpha: 1.00E+02  train: 0.59568  valid: 0.50000\n",
      "alpha: 1.00E+02  train: 0.59979  valid: 0.42593\n",
      "alpha: 1.00E+02  train: 0.60597  valid: 0.40741\n",
      "alpha: 1.00E+02  train: 0.58333  valid: 0.53704\n",
      "alpha: 1.00E+01  train: 0.85802  valid: 0.51852\n",
      "alpha: 1.00E+02  train: 0.58745  valid: 0.52778\n",
      "alpha: 1.00E+02  train: 0.59259  valid: 0.45370\n",
      "alpha: 1.00E+02  train: 0.59156  valid: 0.49074\n",
      "alpha: 1.00E+02  train: 0.58848  valid: 0.56481\n",
      "alpha: 1.00E+01  train: 0.86420  valid: 0.45370\n",
      "alpha: 1.00E+02  train: 0.58025  valid: 0.59259\n",
      "alpha: 1.00E+02  train: 0.58539  valid: 0.53704\n",
      "alpha: 1.00E+02  train: 0.59671  valid: 0.49074\n",
      "step:0\n",
      "alpha: 1.00E+01  train: 0.87654  valid: 0.46296\n",
      "alpha: 1.00E+01  train: 0.87140  valid: 0.43519\n",
      "alpha: 1.00E+02  train: 0.58848  valid: 0.48148\n",
      "alpha: 1.00E+02  train: 0.58745  valid: 0.53704\n",
      "alpha: 1.00E+02  train: 0.59259  valid: 0.48148\n",
      "alpha: 1.00E+02  train: 0.58951  valid: 0.52778\n",
      "alpha: 1.00E+02  train: 0.59877  valid: 0.49074\n",
      "alpha: 1.00E+02  train: 0.58951  valid: 0.50926\n",
      "alpha: 1.00E+02  train: 0.59774  valid: 0.52778\n",
      "alpha: 1.00E+02  train: 0.58128  valid: 0.53704\n",
      "alpha: 1.00E+02  train: 0.59979  valid: 0.47222\n",
      "alpha: 1.00E+01  train: 0.87037  valid: 0.50926\n",
      "alpha: 1.00E+02  train: 0.58230  valid: 0.58333\n",
      "alpha: 1.00E+02  train: 0.59877  valid: 0.50926\n",
      "alpha: 1.00E+02  train: 0.59156  valid: 0.48148\n",
      "alpha: 1.00E+02  train: 0.59671  valid: 0.42593\n",
      "alpha: 1.00E+02  train: 0.59465  valid: 0.49074\n",
      "alpha: 1.00E+02  train: 0.59362  valid: 0.53704\n",
      "alpha: 1.00E+02  train: 0.58539  valid: 0.52778\n",
      "alpha: 1.00E+01  train: 0.87243  valid: 0.46296\n",
      "step:1\n",
      "alpha: 1.00E+02  train: 0.58230  valid: 0.56481\n",
      "alpha: 1.00E+02  train: 0.59877  valid: 0.46296\n",
      "alpha: 1.00E+02  train: 0.59774  valid: 0.46296\n",
      "alpha: 1.00E+01  train: 0.87963  valid: 0.43519\n",
      "alpha: 1.00E+02  train: 0.58539  valid: 0.46296\n",
      "alpha: 1.00E+02  train: 0.60185  valid: 0.42593\n",
      "alpha: 1.00E+02  train: 0.58539  valid: 0.57407\n",
      "alpha: 1.00E+02  train: 0.59979  valid: 0.47222\n",
      "alpha: 1.00E+02  train: 0.58539  valid: 0.50000\n",
      "alpha: 1.00E+02  train: 0.60288  valid: 0.49074\n",
      "alpha: 1.00E+02  train: 0.59979  valid: 0.53704\n",
      "alpha: 1.00E+01  train: 0.87346  valid: 0.39815\n",
      "alpha: 1.00E+02  train: 0.59053  valid: 0.53704\n",
      "alpha: 1.00E+01  train: 0.87551  valid: 0.37037\n",
      "alpha: 1.00E+02  train: 0.59774  valid: 0.51852\n",
      "alpha: 1.00E+02  train: 0.57099  valid: 0.51852\n",
      "alpha: 1.00E+02  train: 0.61008  valid: 0.40741\n",
      "alpha: 1.00E+02  train: 0.59259  valid: 0.49074\n",
      "alpha: 1.00E+02  train: 0.59568  valid: 0.44444\n",
      "alpha: 1.00E+01  train: 0.87140  valid: 0.44444\n",
      "step:2\n",
      "alpha: 1.00E+02  train: 0.59362  valid: 0.47222\n",
      "alpha: 1.00E+01  train: 0.86831  valid: 0.48148\n",
      "alpha: 1.00E+02  train: 0.58128  valid: 0.50000\n",
      "alpha: 1.00E+02  train: 0.58848  valid: 0.46296\n",
      "alpha: 1.00E+02  train: 0.58230  valid: 0.52778\n",
      "alpha: 1.00E+02  train: 0.60185  valid: 0.46296\n",
      "alpha: 1.00E+01  train: 0.86934  valid: 0.49074\n",
      "alpha: 1.00E+02  train: 0.59259  valid: 0.51852\n",
      "alpha: 1.00E+02  train: 0.58745  valid: 0.55556\n",
      "alpha: 1.00E+01  train: 0.87346  valid: 0.54630\n",
      "alpha: 1.00E+01  train: 0.87346  valid: 0.44444\n",
      "alpha: 1.00E+02  train: 0.58745  valid: 0.60185\n",
      "alpha: 1.00E+02  train: 0.58745  valid: 0.48148\n",
      "alpha: 1.00E+01  train: 0.87346  valid: 0.48148\n",
      "alpha: 1.00E+02  train: 0.59259  valid: 0.49074\n",
      "alpha: 1.00E+02  train: 0.58642  valid: 0.47222\n",
      "alpha: 1.00E+02  train: 0.59568  valid: 0.46296\n",
      "alpha: 1.00E+01  train: 0.86728  valid: 0.46296\n",
      "alpha: 1.00E+02  train: 0.59671  valid: 0.48148\n",
      "alpha: 1.00E+02  train: 0.60288  valid: 0.42593\n",
      "step:3\n",
      "alpha: 1.00E+02  train: 0.59362  valid: 0.50926\n",
      "alpha: 1.00E+01  train: 0.86420  valid: 0.43519\n",
      "alpha: 1.00E+01  train: 0.87243  valid: 0.53704\n",
      "alpha: 1.00E+02  train: 0.59259  valid: 0.50000\n",
      "alpha: 1.00E+01  train: 0.86934  valid: 0.47222\n",
      "alpha: 1.00E+02  train: 0.59259  valid: 0.55556\n",
      "alpha: 1.00E+01  train: 0.87243  valid: 0.46296\n",
      "alpha: 1.00E+02  train: 0.58951  valid: 0.51852\n",
      "alpha: 1.00E+02  train: 0.58745  valid: 0.52778\n",
      "alpha: 1.00E+02  train: 0.58745  valid: 0.49074\n",
      "alpha: 1.00E+02  train: 0.58642  valid: 0.44444\n",
      "alpha: 1.00E+02  train: 0.59362  valid: 0.51852\n",
      "alpha: 1.00E+02  train: 0.58436  valid: 0.53704\n",
      "alpha: 1.00E+02  train: 0.59259  valid: 0.46296\n",
      "alpha: 1.00E+02  train: 0.58951  valid: 0.50000\n",
      "alpha: 1.00E+02  train: 0.59053  valid: 0.48148\n",
      "alpha: 1.00E+02  train: 0.60288  valid: 0.42593\n",
      "alpha: 1.00E+02  train: 0.59774  valid: 0.44444\n",
      "alpha: 1.00E+01  train: 0.86934  valid: 0.52778\n",
      "alpha: 1.00E+02  train: 0.59568  valid: 0.44444\n",
      "step:4\n",
      "alpha: 1.00E+02  train: 0.58128  valid: 0.55556\n",
      "alpha: 1.00E+02  train: 0.56996  valid: 0.55556\n",
      "alpha: 1.00E+02  train: 0.58642  valid: 0.57407\n",
      "alpha: 1.00E+02  train: 0.59259  valid: 0.48148\n",
      "alpha: 1.00E+02  train: 0.59877  valid: 0.47222\n",
      "alpha: 1.00E+01  train: 0.86934  valid: 0.49074\n",
      "alpha: 1.00E+02  train: 0.59156  valid: 0.49074\n",
      "alpha: 1.00E+02  train: 0.58642  valid: 0.50926\n",
      "alpha: 1.00E+02  train: 0.58333  valid: 0.46296\n",
      "alpha: 1.00E+01  train: 0.87037  valid: 0.57407\n",
      "alpha: 1.00E+02  train: 0.59259  valid: 0.46296\n",
      "alpha: 1.00E+02  train: 0.59465  valid: 0.50000\n",
      "alpha: 1.00E+02  train: 0.58436  valid: 0.53704\n",
      "alpha: 1.00E+02  train: 0.59568  valid: 0.42593\n",
      "alpha: 1.00E+02  train: 0.59362  valid: 0.42593\n",
      "alpha: 1.00E+02  train: 0.59568  valid: 0.48148\n",
      "alpha: 1.00E+02  train: 0.58128  valid: 0.51852\n",
      "alpha: 1.00E+02  train: 0.59362  valid: 0.48148\n",
      "alpha: 1.00E+02  train: 0.57613  valid: 0.56481\n",
      "alpha: 1.00E+02  train: 0.58128  valid: 0.58333\n",
      "step:5\n",
      "alpha: 1.00E+02  train: 0.58642  valid: 0.54630\n",
      "alpha: 1.00E+02  train: 0.59877  valid: 0.40741\n",
      "alpha: 1.00E+02  train: 0.59671  valid: 0.50000\n",
      "alpha: 1.00E+02  train: 0.58333  valid: 0.56481\n",
      "alpha: 1.00E+02  train: 0.56996  valid: 0.55556\n",
      "alpha: 1.00E+02  train: 0.58539  valid: 0.50926\n",
      "alpha: 1.00E+02  train: 0.59053  valid: 0.52778\n",
      "alpha: 1.00E+01  train: 0.87449  valid: 0.56481\n",
      "alpha: 1.00E+02  train: 0.58436  valid: 0.49074\n",
      "alpha: 1.00E+01  train: 0.87757  valid: 0.52778\n",
      "alpha: 1.00E+01  train: 0.87551  valid: 0.48148\n",
      "alpha: 1.00E+02  train: 0.58333  valid: 0.47222\n",
      "alpha: 1.00E+02  train: 0.57613  valid: 0.58333\n",
      "alpha: 1.00E+02  train: 0.58333  valid: 0.52778\n",
      "alpha: 1.00E+02  train: 0.58333  valid: 0.50926\n",
      "alpha: 1.00E+02  train: 0.57716  valid: 0.52778\n",
      "alpha: 1.00E+02  train: 0.59053  valid: 0.44444\n",
      "alpha: 1.00E+02  train: 0.58333  valid: 0.52778\n",
      "alpha: 1.00E+02  train: 0.59053  valid: 0.48148\n",
      "alpha: 1.00E+02  train: 0.58951  valid: 0.50000\n",
      "step:6\n",
      "alpha: 1.00E+02  train: 0.57613  valid: 0.62963\n",
      "alpha: 1.00E+02  train: 0.58642  valid: 0.46296\n",
      "alpha: 1.00E+02  train: 0.60082  valid: 0.46296\n",
      "alpha: 1.00E+02  train: 0.58745  valid: 0.55556\n",
      "alpha: 1.00E+01  train: 0.87243  valid: 0.45370\n",
      "alpha: 1.00E+01  train: 0.87037  valid: 0.50926\n",
      "alpha: 1.00E+01  train: 0.87243  valid: 0.47222\n",
      "alpha: 1.00E+02  train: 0.59156  valid: 0.42593\n",
      "alpha: 1.00E+02  train: 0.59362  valid: 0.47222\n",
      "alpha: 1.00E+02  train: 0.57819  valid: 0.51852\n",
      "alpha: 1.00E+02  train: 0.59053  valid: 0.50000\n",
      "alpha: 1.00E+01  train: 0.87346  valid: 0.44444\n",
      "alpha: 1.00E+02  train: 0.58642  valid: 0.47222\n",
      "alpha: 1.00E+02  train: 0.58642  valid: 0.49074\n",
      "alpha: 1.00E+02  train: 0.59053  valid: 0.49074\n",
      "alpha: 1.00E+02  train: 0.59671  valid: 0.50000\n",
      "alpha: 1.00E+01  train: 0.86523  valid: 0.47222\n",
      "alpha: 1.00E+01  train: 0.87346  valid: 0.48148\n",
      "alpha: 1.00E+02  train: 0.58642  valid: 0.57407\n",
      "alpha: 1.00E+02  train: 0.58436  valid: 0.48148\n",
      "step:7\n",
      "alpha: 1.00E+02  train: 0.59259  valid: 0.47222\n",
      "alpha: 1.00E+02  train: 0.58642  valid: 0.54630\n",
      "alpha: 1.00E+02  train: 0.59259  valid: 0.47222\n",
      "alpha: 1.00E+02  train: 0.59979  valid: 0.46296\n",
      "alpha: 1.00E+01  train: 0.86831  valid: 0.45370\n",
      "alpha: 1.00E+02  train: 0.59877  valid: 0.44444\n",
      "alpha: 1.00E+02  train: 0.58539  valid: 0.51852\n",
      "alpha: 1.00E+02  train: 0.59259  valid: 0.47222\n",
      "alpha: 1.00E+02  train: 0.57922  valid: 0.49074\n",
      "alpha: 1.00E+02  train: 0.58745  valid: 0.47222\n",
      "alpha: 1.00E+02  train: 0.59053  valid: 0.51852\n",
      "alpha: 1.00E+02  train: 0.58436  valid: 0.46296\n",
      "alpha: 1.00E+02  train: 0.59465  valid: 0.46296\n",
      "alpha: 1.00E+02  train: 0.58642  valid: 0.51852\n",
      "alpha: 1.00E+02  train: 0.58539  valid: 0.51852\n",
      "alpha: 1.00E+01  train: 0.87654  valid: 0.42593\n",
      "alpha: 1.00E+02  train: 0.58848  valid: 0.52778\n",
      "alpha: 1.00E+02  train: 0.59774  valid: 0.50000\n",
      "alpha: 1.00E+02  train: 0.59465  valid: 0.46296\n",
      "alpha: 1.00E+02  train: 0.59259  valid: 0.47222\n",
      "step:8\n",
      "alpha: 1.00E+02  train: 0.60185  valid: 0.44444\n",
      "alpha: 1.00E+02  train: 0.58848  valid: 0.48148\n",
      "alpha: 1.00E+01  train: 0.86831  valid: 0.44444\n",
      "alpha: 1.00E+02  train: 0.58848  valid: 0.55556\n",
      "alpha: 1.00E+02  train: 0.59774  valid: 0.51852\n",
      "alpha: 1.00E+02  train: 0.58642  valid: 0.49074\n",
      "alpha: 1.00E+02  train: 0.58848  valid: 0.50926\n",
      "alpha: 1.00E+02  train: 0.59465  valid: 0.44444\n",
      "alpha: 1.00E+01  train: 0.87551  valid: 0.46296\n",
      "alpha: 1.00E+02  train: 0.59156  valid: 0.48148\n",
      "alpha: 1.00E+02  train: 0.57407  valid: 0.60185\n",
      "alpha: 1.00E+02  train: 0.59774  valid: 0.50000\n",
      "alpha: 1.00E+01  train: 0.86420  valid: 0.34259\n",
      "alpha: 1.00E+02  train: 0.58333  valid: 0.52778\n",
      "alpha: 1.00E+02  train: 0.59156  valid: 0.50926\n",
      "alpha: 1.00E+02  train: 0.59259  valid: 0.45370\n",
      "alpha: 1.00E+01  train: 0.88374  valid: 0.42593\n",
      "alpha: 1.00E+01  train: 0.86008  valid: 0.54630\n",
      "alpha: 1.00E+01  train: 0.86420  valid: 0.48148\n",
      "alpha: 1.00E+02  train: 0.58642  valid: 0.49074\n",
      "step:9\n"
     ]
    }
   ],
   "source": [
    "acc_total_2 = []\n",
    "for i in np.arange(10):\n",
    "    acc_total_2.append(cross_validation(ear_ele, ear_y, cv_number = 20, test_size = 0.1))\n",
    "    print(f'step:{i}')\n"
   ]
  },
  {
   "cell_type": "code",
   "execution_count": 12,
   "id": "6f865a50-b7d3-4276-a371-1bd43669efd9",
   "metadata": {
    "execution": {
     "iopub.execute_input": "2023-01-11T01:21:45.431346Z",
     "iopub.status.busy": "2023-01-11T01:21:45.431346Z",
     "iopub.status.idle": "2023-01-11T01:21:45.441319Z",
     "shell.execute_reply": "2023-01-11T01:21:45.440322Z",
     "shell.execute_reply.started": "2023-01-11T01:21:45.431346Z"
    },
    "tags": []
   },
   "outputs": [
    {
     "data": {
      "text/plain": [
       "array([0.4625    , 0.45694444, 0.45833333, 0.45648148, 0.45601852,\n",
       "       0.48981481, 0.45046296, 0.45601852, 0.4462963 , 0.4837963 ])"
      ]
     },
     "execution_count": 12,
     "metadata": {},
     "output_type": "execute_result"
    }
   ],
   "source": [
    "np.asarray(acc_total).mean(axis = 1)\n",
    "np.asarray(acc_total_2).mean(axis = 1)"
   ]
  },
  {
   "cell_type": "code",
   "execution_count": 13,
   "id": "40958447-0a31-4996-adff-cae430c870bf",
   "metadata": {
    "execution": {
     "iopub.execute_input": "2023-01-11T01:22:01.794368Z",
     "iopub.status.busy": "2023-01-11T01:22:01.793371Z",
     "iopub.status.idle": "2023-01-11T01:22:01.801349Z",
     "shell.execute_reply": "2023-01-11T01:22:01.800351Z",
     "shell.execute_reply.started": "2023-01-11T01:22:01.793371Z"
    }
   },
   "outputs": [
    {
     "data": {
      "text/plain": [
       "array([0.49490741, 0.49953704, 0.47592593, 0.4912037 , 0.48981481,\n",
       "       0.50740741, 0.5125    , 0.49351852, 0.4837963 , 0.48564815])"
      ]
     },
     "execution_count": 13,
     "metadata": {},
     "output_type": "execute_result"
    }
   ],
   "source": []
  },
  {
   "cell_type": "code",
   "execution_count": null,
   "id": "91a5666a-ccbe-41dd-aa70-3cd3810b2eda",
   "metadata": {},
   "outputs": [],
   "source": []
  }
 ],
 "metadata": {
  "kernelspec": {
   "display_name": "Python 3 (ipykernel)",
   "language": "python",
   "name": "python3"
  },
  "language_info": {
   "codemirror_mode": {
    "name": "ipython",
    "version": 3
   },
   "file_extension": ".py",
   "mimetype": "text/x-python",
   "name": "python",
   "nbconvert_exporter": "python",
   "pygments_lexer": "ipython3",
   "version": "3.10.8"
  }
 },
 "nbformat": 4,
 "nbformat_minor": 5
}
