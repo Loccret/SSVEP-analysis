{
 "cells": [
  {
   "cell_type": "code",
   "execution_count": 1,
   "id": "030ee030-9c54-4dc7-8908-ac610eebf5fe",
   "metadata": {
    "execution": {
     "iopub.execute_input": "2023-01-07T02:03:12.388490Z",
     "iopub.status.busy": "2023-01-07T02:03:12.387489Z",
     "iopub.status.idle": "2023-01-07T02:03:23.733398Z",
     "shell.execute_reply": "2023-01-07T02:03:23.732109Z",
     "shell.execute_reply.started": "2023-01-07T02:03:12.388490Z"
    }
   },
   "outputs": [],
   "source": [
    "import pandas as pd\n",
    "import numpy as np\n",
    "import matplotlib.pyplot as plt\n",
    "from matplotlib import cm\n",
    "from sklearn.model_selection import train_test_split\n",
    "from sklearn.utils import shuffle\n",
    "import tsai.all as ts\n",
    "import torch\n",
    "from torch import nn\n",
    "from my_utilities import time_frequency_analysis, mma_Partition, time_frequency_analysis_output_1s\n",
    "from sklearn.linear_model import RidgeClassifierCV\n",
    "\n",
    "import time"
   ]
  },
  {
   "cell_type": "code",
   "execution_count": 15,
   "id": "cd73d096-c5dc-4492-870f-9bdec8cfc6b1",
   "metadata": {
    "execution": {
     "iopub.execute_input": "2023-01-07T02:35:12.271563Z",
     "iopub.status.busy": "2023-01-07T02:35:12.271563Z",
     "iopub.status.idle": "2023-01-07T02:35:19.607331Z",
     "shell.execute_reply": "2023-01-07T02:35:19.606332Z",
     "shell.execute_reply.started": "2023-01-07T02:35:12.271563Z"
    },
    "tags": []
   },
   "outputs": [],
   "source": [
    "srate = 2000\n",
    "new_srate = 200\n",
    "sec = 3 # time step length\n",
    "ele = pd.read_csv('data/ele_4_60_hz.csv', header = None, index_col = None).to_numpy()\n",
    "# shape = (4, 15, 2, 20000, 14)\n",
    "# 去除第一秒的数据,且重采样到200hz\n",
    "ele = np.reshape(\n",
    "    ele, (20000,15,4,2,14), order = 'F').transpose([2,1,3,0,4])[:,:,:,srate::srate//new_srate,:]\n",
    "\n",
    "# 分成头部与耳部，标注label\n",
    "ear_ele = ele[...,:8].astype(np.float32).reshape(-1,int(200 * sec),8)\n",
    "head_ele = ele[...,8:].astype(np.float32).reshape(-1,int(200 * sec),6)\n",
    "# labels = np.repeat([0,1,2,3], ear_ele.shape[0]//4)"
   ]
  },
  {
   "cell_type": "code",
   "execution_count": 16,
   "id": "0f0c9f29-7afb-4979-90ad-04148f4b789e",
   "metadata": {
    "execution": {
     "iopub.execute_input": "2023-01-07T02:35:19.609326Z",
     "iopub.status.busy": "2023-01-07T02:35:19.609326Z",
     "iopub.status.idle": "2023-01-07T02:35:19.703075Z",
     "shell.execute_reply": "2023-01-07T02:35:19.702077Z",
     "shell.execute_reply.started": "2023-01-07T02:35:19.609326Z"
    },
    "tags": []
   },
   "outputs": [],
   "source": [
    "# batches, channels, time step\n",
    "ear_ele = ele[...,:8].astype(np.float32).reshape(-1,int(200 * sec),8).transpose([0,2,1])\n",
    "head_ele = ele[...,8:].astype(np.float32).reshape(-1,int(200 * sec),6).transpose([0,2,1])\n",
    "\n",
    "# z-score\n",
    "head_ele = (head_ele - head_ele.mean(axis = 2)[...,np.newaxis])\\\n",
    "                /head_ele.std(axis = 2)[...,np.newaxis]\n",
    "\n",
    "ear_ele = (ear_ele - ear_ele.mean(axis = 2)[...,np.newaxis])\\\n",
    "                /ear_ele.std(axis = 2)[...,np.newaxis]\n",
    "\n",
    "y = np.repeat([0,1,2,3], int(ear_ele.shape[0]/4))\n",
    "\n",
    "# ################################ TFA #########################\n",
    "# mask = np.unique(np.array(list(range(5,59,5))+\n",
    "#                           list(range(7,59,7))+\n",
    "#                           list(range(9,59,9))+\n",
    "#                           list(range(11,59,11))))-2\n",
    "\n",
    "\n",
    "\n",
    "# ear_X_train, ear_X_test, ear_y_train, ear_y_test = train_test_split(ear_ele, y, test_size=0.1)\n",
    "# # head_X_train, head_X_test, head_y_train, head_y_test = train_test_split(head_ele, y, test_size=0.1)\n",
    "# # ################# DATA generate ##############################\n",
    "# # ear_X_train, ear_y_train = roll_window(ear_X_train, ear_y_train)\n",
    "# # ear_X_train, ear_y_train = shuffle(ear_X_train, ear_y_train)\n",
    "# ##############################################################\n",
    "# ear_ele, ear_y, ear_splits = ts.combine_split_data([ear_X_train, ear_X_test], [ear_y_train, ear_y_test])"
   ]
  },
  {
   "cell_type": "code",
   "execution_count": 17,
   "id": "c04b3ce0-3493-4ac1-9935-34ed793f5071",
   "metadata": {
    "execution": {
     "iopub.execute_input": "2023-01-07T02:35:22.616399Z",
     "iopub.status.busy": "2023-01-07T02:35:22.616399Z",
     "iopub.status.idle": "2023-01-07T02:35:22.629364Z",
     "shell.execute_reply": "2023-01-07T02:35:22.628365Z",
     "shell.execute_reply.started": "2023-01-07T02:35:22.616399Z"
    },
    "tags": []
   },
   "outputs": [
    {
     "data": {
      "text/plain": [
       "((360, 8, 600), (360,))"
      ]
     },
     "execution_count": 17,
     "metadata": {},
     "output_type": "execute_result"
    }
   ],
   "source": [
    "ear_ele.shape, y.shape"
   ]
  },
  {
   "cell_type": "code",
   "execution_count": 18,
   "id": "da8a549b-c436-4f20-8da8-093914c2c605",
   "metadata": {
    "execution": {
     "iopub.execute_input": "2023-01-07T02:36:06.080431Z",
     "iopub.status.busy": "2023-01-07T02:36:06.080431Z",
     "iopub.status.idle": "2023-01-07T02:36:06.091403Z",
     "shell.execute_reply": "2023-01-07T02:36:06.090404Z",
     "shell.execute_reply.started": "2023-01-07T02:36:06.080431Z"
    },
    "tags": []
   },
   "outputs": [],
   "source": [
    "def cross_validation(x, y, cv_number = 20, test_size = 0.1):\n",
    "    acc = []\n",
    "    batch_tfms = [ts.TSStandardize(by_sample=True)]\n",
    "    tfms  = [None, [ts.Categorize()]]\n",
    "    \n",
    "    for _ in np.arange(cv_number):\n",
    "        x, y = shuffle(x, y)\n",
    "        X_train, X_test, y_train, y_test = train_test_split(x, y, test_size=test_size)\n",
    "        \n",
    "            \n",
    "        ear_X, ear_y, splits = ts.combine_split_data([X_train, X_test], [y_train, y_test])\n",
    "        dls = ts.get_ts_dls(ear_X, ear_y, \n",
    "                         splits=splits, \n",
    "                         tfms=tfms, drop_last=False, \n",
    "                         shuffle_train=False, batch_tfms=batch_tfms, bs=10_000)        \n",
    "        model = ts.build_ts_model(ts.ROCKET, dls=dls)\n",
    "        \n",
    "        X_train, y_train = ts.create_rocket_features(dls.train, model)\n",
    "        X_valid, y_valid = ts.create_rocket_features(dls.valid, model)\n",
    "        X_train.shape, X_valid.shape\n",
    "    \n",
    "        ridge = RidgeClassifierCV(alphas=np.logspace(-8, 8, 17), normalize=True)\n",
    "        ridge.fit(X_train, y_train)\n",
    "        print(f'alpha: {ridge.alpha_:.2E}  train: {ridge.score(X_train, y_train):.5f}  valid: {ridge.score(X_valid, y_valid):.5f}')\n",
    "        acc.append(ridge.score(X_valid, y_valid))\n",
    "        \n",
    "    return acc"
   ]
  },
  {
   "cell_type": "code",
   "execution_count": 19,
   "id": "01e2b64c-2791-4dfa-85d5-bcb21b072603",
   "metadata": {
    "execution": {
     "iopub.execute_input": "2023-01-07T02:36:42.701455Z",
     "iopub.status.busy": "2023-01-07T02:36:42.701455Z",
     "iopub.status.idle": "2023-01-07T02:50:31.996254Z",
     "shell.execute_reply": "2023-01-07T02:50:31.995255Z",
     "shell.execute_reply.started": "2023-01-07T02:36:42.701455Z"
    },
    "tags": []
   },
   "outputs": [
    {
     "name": "stdout",
     "output_type": "stream",
     "text": [
      "alpha: 1.00E+08  train: 0.26852  valid: 0.08333\n",
      "alpha: 1.00E+08  train: 0.26543  valid: 0.11111\n",
      "alpha: 1.00E+08  train: 0.25617  valid: 0.19444\n",
      "alpha: 1.00E+08  train: 0.26235  valid: 0.13889\n",
      "alpha: 1.00E+08  train: 0.25926  valid: 0.16667\n",
      "alpha: 1.00E+08  train: 0.52160  valid: 0.08333\n",
      "alpha: 1.00E+08  train: 0.26235  valid: 0.13889\n",
      "alpha: 1.00E+08  train: 0.25617  valid: 0.19444\n",
      "alpha: 1.00E+08  train: 0.25926  valid: 0.16667\n",
      "alpha: 1.00E+08  train: 0.26235  valid: 0.13889\n",
      "alpha: 1.00E+08  train: 0.51235  valid: 0.11111\n",
      "alpha: 1.00E+08  train: 0.25617  valid: 0.19444\n",
      "alpha: 1.00E+08  train: 0.25617  valid: 0.19444\n",
      "alpha: 1.00E+08  train: 0.26543  valid: 0.11111\n",
      "alpha: 1.00E+08  train: 0.26235  valid: 0.13889\n",
      "alpha: 1.00E+08  train: 0.26235  valid: 0.13889\n",
      "alpha: 1.00E+08  train: 0.26543  valid: 0.11111\n",
      "alpha: 1.00E+08  train: 0.25926  valid: 0.16667\n",
      "alpha: 1.00E+08  train: 0.26235  valid: 0.13889\n",
      "alpha: 1.00E+08  train: 0.25617  valid: 0.19444\n"
     ]
    }
   ],
   "source": [
    "acc = cross_validation(ear_ele, y, cv_number = 20, test_size = 0.1)"
   ]
  },
  {
   "cell_type": "code",
   "execution_count": 14,
   "id": "36f6eff5-dc30-4e7f-814f-140cedd5541a",
   "metadata": {
    "execution": {
     "iopub.execute_input": "2023-01-07T02:35:00.228564Z",
     "iopub.status.busy": "2023-01-07T02:35:00.228564Z",
     "iopub.status.idle": "2023-01-07T02:35:00.274439Z",
     "shell.execute_reply": "2023-01-07T02:35:00.274439Z",
     "shell.execute_reply.started": "2023-01-07T02:35:00.228564Z"
    }
   },
   "outputs": [],
   "source": [
    "# pd.DataFrame(acc, columns=['4s']).to_csv(r'result/ORIGINAL_ROCKET_ACC.csv', index= None)"
   ]
  },
  {
   "cell_type": "code",
   "execution_count": null,
   "id": "05ecb9a8-430a-4f6d-8ebf-ee2abf2927dd",
   "metadata": {},
   "outputs": [],
   "source": []
  }
 ],
 "metadata": {
  "kernelspec": {
   "display_name": "Python 3 (ipykernel)",
   "language": "python",
   "name": "python3"
  },
  "language_info": {
   "codemirror_mode": {
    "name": "ipython",
    "version": 3
   },
   "file_extension": ".py",
   "mimetype": "text/x-python",
   "name": "python",
   "nbconvert_exporter": "python",
   "pygments_lexer": "ipython3",
   "version": "3.10.8"
  }
 },
 "nbformat": 4,
 "nbformat_minor": 5
}
