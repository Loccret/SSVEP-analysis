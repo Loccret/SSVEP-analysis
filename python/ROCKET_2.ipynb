{
 "cells": [
  {
   "cell_type": "code",
   "execution_count": 2,
   "id": "f5d7e867-6b87-401c-8bb7-28ff4200e650",
   "metadata": {
    "execution": {
     "iopub.execute_input": "2023-01-17T13:12:19.510257Z",
     "iopub.status.busy": "2023-01-17T13:12:19.509260Z",
     "iopub.status.idle": "2023-01-17T13:12:19.527211Z",
     "shell.execute_reply": "2023-01-17T13:12:19.527211Z",
     "shell.execute_reply.started": "2023-01-17T13:12:19.510257Z"
    },
    "tags": []
   },
   "outputs": [],
   "source": [
    "import pandas as pd\n",
    "import numpy as np\n",
    "import matplotlib.pyplot as plt\n",
    "from matplotlib import cm\n",
    "from sklearn.model_selection import train_test_split\n",
    "from sklearn.utils import shuffle\n",
    "import tsai.all as ts\n",
    "import torch\n",
    "from torch import nn\n",
    "from my_utilities import time_frequency_analysis, mma_Partition, time_frequency_analysis_output_1s\n",
    "from sklearn.linear_model import RidgeClassifierCV\n",
    "\n",
    "from sklearn.metrics import confusion_matrix\n",
    "import time"
   ]
  },
  {
   "cell_type": "code",
   "execution_count": 1,
   "id": "4d0aa045-f51b-4adf-b746-b4a37dd890e3",
   "metadata": {
    "execution": {
     "iopub.execute_input": "2023-01-05T04:39:24.471891Z",
     "iopub.status.busy": "2023-01-05T04:39:24.470893Z",
     "iopub.status.idle": "2023-01-05T04:39:24.489842Z",
     "shell.execute_reply": "2023-01-05T04:39:24.488845Z",
     "shell.execute_reply.started": "2023-01-05T04:39:24.471891Z"
    },
    "tags": []
   },
   "outputs": [
    {
     "data": {
      "text/plain": [
       "3.0"
      ]
     },
     "execution_count": 1,
     "metadata": {},
     "output_type": "execute_result"
    }
   ],
   "source": [
    "(20000-2000)/6000"
   ]
  },
  {
   "cell_type": "code",
   "execution_count": 3,
   "id": "39344026-d0d8-4151-a3fd-54c6e324bf4d",
   "metadata": {
    "execution": {
     "iopub.execute_input": "2023-01-10T13:54:43.113187Z",
     "iopub.status.busy": "2023-01-10T13:54:43.113187Z",
     "iopub.status.idle": "2023-01-10T13:54:49.372281Z",
     "shell.execute_reply": "2023-01-10T13:54:49.371315Z",
     "shell.execute_reply.started": "2023-01-10T13:54:43.113187Z"
    },
    "tags": []
   },
   "outputs": [],
   "source": [
    "srate = 2000\n",
    "new_srate = 200\n",
    "sec = 1 # time step length\n",
    "ele = pd.read_csv('data/ele_4_60_hz.csv', header = None, index_col = None).to_numpy()\n",
    "# shape = (4, 15, 2, 20000, 14)\n",
    "# 去除第一秒的数据,且重采样到200hz\n",
    "ele = np.reshape(\n",
    "    ele, (20000,15,4,2,14), order = 'F').transpose([2,1,3,0,4])[:,:,:,srate::srate//new_srate,:]\n",
    "\n",
    "# 分成头部与耳部，标注label\n",
    "ear_ele = ele[...,:8].astype(np.float32).reshape(-1,int(200 * sec),8)\n",
    "head_ele = ele[...,8:].astype(np.float32).reshape(-1,int(200 * sec),6)\n",
    "# labels = np.repeat([0,1,2,3], ear_ele.shape[0]//4)"
   ]
  },
  {
   "cell_type": "code",
   "execution_count": 4,
   "id": "90f69876-3f7d-444b-82c8-524b4315b295",
   "metadata": {
    "execution": {
     "iopub.execute_input": "2023-01-10T13:54:53.008342Z",
     "iopub.status.busy": "2023-01-10T13:54:53.007344Z",
     "iopub.status.idle": "2023-01-10T13:54:53.024298Z",
     "shell.execute_reply": "2023-01-10T13:54:53.024298Z",
     "shell.execute_reply.started": "2023-01-10T13:54:53.008342Z"
    },
    "tags": []
   },
   "outputs": [
    {
     "data": {
      "text/plain": [
       "(1080, 200, 8)"
      ]
     },
     "execution_count": 4,
     "metadata": {},
     "output_type": "execute_result"
    }
   ],
   "source": [
    "ear_ele.shape"
   ]
  },
  {
   "cell_type": "code",
   "execution_count": 5,
   "id": "4bb8fa53-8f01-4e34-9667-351776d7e3d9",
   "metadata": {
    "execution": {
     "iopub.execute_input": "2023-01-05T04:39:43.739448Z",
     "iopub.status.busy": "2023-01-05T04:39:43.739448Z",
     "iopub.status.idle": "2023-01-05T04:39:43.749398Z",
     "shell.execute_reply": "2023-01-05T04:39:43.749398Z",
     "shell.execute_reply.started": "2023-01-05T04:39:43.739448Z"
    },
    "tags": []
   },
   "outputs": [],
   "source": [
    "# np.roll(np.arange(24).reshape(3,8), 1)\n",
    "def roll_window(x, y, stride = 100):\n",
    "    '''\n",
    "    args:\n",
    "        x(sample, channel, time_step): numpy ndarray, must contain the axis which want to be rolled\n",
    "        axis: int, the specific axis\n",
    "        stride: int, step length\n",
    "    '''\n",
    "    x_temp = x.reshape(x.shape[0], x.shape[1],-1,stride)  # 改AXIS必须改这里\n",
    "    strided_x = np.asarray([np.roll(x_temp, shift = i, axis = 2).reshape(x.shape[0], x.shape[1], -1)\\\n",
    "                            for i in np.arange(x_temp.shape[2])])\n",
    "    y = np.tile(y, x_temp.shape[2])\n",
    "    return strided_x.reshape(-1, x.shape[1], x.shape[2]), y"
   ]
  },
  {
   "cell_type": "code",
   "execution_count": 5,
   "id": "d220425a-5843-460a-aaca-a4cbab79b266",
   "metadata": {
    "execution": {
     "iopub.execute_input": "2023-01-10T13:55:52.554709Z",
     "iopub.status.busy": "2023-01-10T13:55:52.553713Z",
     "iopub.status.idle": "2023-01-10T13:56:08.386871Z",
     "shell.execute_reply": "2023-01-10T13:56:08.385857Z",
     "shell.execute_reply.started": "2023-01-10T13:55:52.553713Z"
    },
    "tags": []
   },
   "outputs": [
    {
     "name": "stdout",
     "output_type": "stream",
     "text": [
      "begin to TFA\n"
     ]
    }
   ],
   "source": [
    "# batches, channels, time step\n",
    "ear_ele = ele[...,:8].astype(np.float32).reshape(-1,int(200 * sec),8).transpose([0,2,1])\n",
    "head_ele = ele[...,8:].astype(np.float32).reshape(-1,int(200 * sec),6).transpose([0,2,1])\n",
    "\n",
    "# z-score\n",
    "head_ele = (head_ele - head_ele.mean(axis = 2)[...,np.newaxis])\\\n",
    "                /head_ele.std(axis = 2)[...,np.newaxis]\n",
    "\n",
    "ear_ele = (ear_ele - ear_ele.mean(axis = 2)[...,np.newaxis])\\\n",
    "                /ear_ele.std(axis = 2)[...,np.newaxis]\n",
    "\n",
    "y = np.repeat([0,1,2,3], int(ear_ele.shape[0]/4))\n",
    "\n",
    "################################ TFA #########################\n",
    "print('begin to TFA')\n",
    "mask = np.unique(np.array(list(range(5,59,5))+\n",
    "                          list(range(7,59,7))+\n",
    "                          list(range(9,59,9))+\n",
    "                          list(range(11,59,11))))-2\n",
    "# time frequency analysis for ear-EEG\n",
    "temp_ear_ele = []\n",
    "for i in ear_ele:\n",
    "    _,_,temp = time_frequency_analysis(\n",
    "        i.T, srate = new_srate, max_freq = 60, min_freq = 2, num_freq = 59, fwhm = 1)\n",
    "    # _,_,temp = time_frequency_analysis_output_1s(\n",
    "    #     i.T, srate = new_srate, max_freq = 60, min_freq = 2, num_freq = 59, fwhm = 1)    \n",
    "    temp_ear_ele.append(temp)\n",
    "    \n",
    "# if use mask\n",
    "ear_ele = np.asarray(temp_ear_ele)[:,mask,:]\n",
    "\n",
    "# # if do not use mask\n",
    "# ear_ele = np.asarray(temp_ear_ele)\n",
    "del temp_ear_ele\n",
    "##############################################################\n",
    "\n",
    "\n",
    "ear_X_train, ear_X_test, ear_y_train, ear_y_test = train_test_split(ear_ele, y, test_size=0.1)\n",
    "# head_X_train, head_X_test, head_y_train, head_y_test = train_test_split(head_ele, y, test_size=0.1)\n",
    "# ################# DATA generate ##############################\n",
    "# ear_X_train, ear_y_train = roll_window(ear_X_train, ear_y_train)\n",
    "# ear_X_train, ear_y_train = shuffle(ear_X_train, ear_y_train)\n",
    "##############################################################\n",
    "ear_ele, ear_y, ear_splits = ts.combine_split_data([ear_X_train, ear_X_test], [ear_y_train, ear_y_test])"
   ]
  },
  {
   "cell_type": "code",
   "execution_count": 6,
   "id": "ea4440d4-a543-4feb-8338-cdaf51136268",
   "metadata": {
    "execution": {
     "iopub.execute_input": "2023-01-10T13:56:10.591441Z",
     "iopub.status.busy": "2023-01-10T13:56:10.591441Z",
     "iopub.status.idle": "2023-01-10T13:56:10.601414Z",
     "shell.execute_reply": "2023-01-10T13:56:10.600417Z",
     "shell.execute_reply.started": "2023-01-10T13:56:10.591441Z"
    },
    "tags": []
   },
   "outputs": [
    {
     "data": {
      "text/plain": [
       "(972, 27, 200)"
      ]
     },
     "execution_count": 6,
     "metadata": {},
     "output_type": "execute_result"
    }
   ],
   "source": [
    "ear_X_train.shape"
   ]
  },
  {
   "cell_type": "code",
   "execution_count": null,
   "id": "15ec367e-9045-432b-aac8-4e15010cb948",
   "metadata": {
    "execution": {
     "iopub.execute_input": "2023-01-04T06:45:15.914270Z",
     "iopub.status.busy": "2023-01-04T06:45:15.913273Z",
     "iopub.status.idle": "2023-01-04T06:45:21.345143Z",
     "shell.execute_reply": "2023-01-04T06:45:21.344126Z",
     "shell.execute_reply.started": "2023-01-04T06:45:15.914270Z"
    },
    "tags": []
   },
   "outputs": [],
   "source": [
    "# batch_tfms = [ts.TSStandardize(by_sample=True)]\n",
    "# tfms  = [None, [ts.Categorize()]]\n",
    "# dls = ts.get_ts_dls(ear_ele, ear_y, \n",
    "#                  splits=ear_splits, \n",
    "#                  tfms=tfms, drop_last=False, \n",
    "#                  shuffle_train=False, batch_tfms=batch_tfms, bs=10_000)\n",
    "\n",
    "# model = ts.build_ts_model(ts.ROCKET, dls=dls)\n",
    "\n",
    "# X_train, y_train = ts.create_rocket_features(dls.train, model)\n",
    "# X_valid, y_valid = ts.create_rocket_features(dls.valid, model)\n",
    "# X_train.shape, X_valid.shape"
   ]
  },
  {
   "cell_type": "code",
   "execution_count": 4,
   "id": "acf50520-c5a7-43de-8fe9-4e600f745668",
   "metadata": {
    "execution": {
     "iopub.execute_input": "2023-01-17T13:12:48.851764Z",
     "iopub.status.busy": "2023-01-17T13:12:48.851764Z",
     "iopub.status.idle": "2023-01-17T13:12:48.861737Z",
     "shell.execute_reply": "2023-01-17T13:12:48.861737Z",
     "shell.execute_reply.started": "2023-01-17T13:12:48.851764Z"
    },
    "tags": []
   },
   "outputs": [],
   "source": [
    "def cross_validation(x, y, cv_number = 20, test_size = 0.1):\n",
    "    acc = []\n",
    "    batch_tfms = [ts.TSStandardize(by_sample=True)]\n",
    "    tfms  = [None, [ts.Categorize()]]\n",
    "    cfm = np.zeros([4,4])\n",
    "    for _ in np.arange(cv_number):\n",
    "        x, y = shuffle(x, y)\n",
    "        X_train, X_test, y_train, y_test = train_test_split(x, y, test_size=test_size)\n",
    "            \n",
    "        ear_X, ear_y, splits = ts.combine_split_data([X_train, X_test], [y_train, y_test])\n",
    "        dls = ts.get_ts_dls(ear_X, ear_y, \n",
    "                         splits=splits, \n",
    "                         tfms=tfms, drop_last=False, \n",
    "                         shuffle_train=False, batch_tfms=batch_tfms, bs=10_000)        \n",
    "        model = ts.build_ts_model(ts.ROCKET, dls=dls)\n",
    "        \n",
    "        X_train, y_train = ts.create_rocket_features(dls.train, model)\n",
    "        X_valid, y_valid = ts.create_rocket_features(dls.valid, model)\n",
    "        X_train.shape, X_valid.shape\n",
    "    \n",
    "        ridge = RidgeClassifierCV(alphas=np.logspace(-8, 8, 17), normalize=True)\n",
    "        ridge.fit(X_train, y_train)\n",
    "        print(f'alpha: {ridge.alpha_:.2E}  train: {ridge.score(X_train, y_train):.5f}  valid: {ridge.score(X_valid, y_valid):.5f}')\n",
    "        acc.append(ridge.score(X_valid, y_valid))\n",
    "        \n",
    "        cfm += confusion_matrix(y_valid, ridge.predict(X_valid))\n",
    "        print(cfm)\n",
    "    return acc, cfm"
   ]
  },
  {
   "cell_type": "code",
   "execution_count": 13,
   "id": "f5798e77-504f-447e-b0c3-59a50a7d2388",
   "metadata": {
    "execution": {
     "iopub.execute_input": "2023-01-04T11:09:58.797336Z",
     "iopub.status.busy": "2023-01-04T11:09:58.796369Z",
     "iopub.status.idle": "2023-01-04T11:09:58.810301Z",
     "shell.execute_reply": "2023-01-04T11:09:58.809327Z",
     "shell.execute_reply.started": "2023-01-04T11:09:58.796369Z"
    }
   },
   "outputs": [
    {
     "data": {
      "text/plain": [
       "array([0.7       , 0.76041667, 0.68958333, 0.68958333, 0.70833333,\n",
       "       0.71666667, 0.68333333, 0.69166667, 0.67916667, 0.67916667])"
      ]
     },
     "execution_count": 13,
     "metadata": {},
     "output_type": "execute_result"
    }
   ],
   "source": [
    "# np.asarray(acc_total).mean(axis = 1)"
   ]
  },
  {
   "cell_type": "code",
   "execution_count": 12,
   "id": "6f865a50-b7d3-4276-a371-1bd43669efd9",
   "metadata": {
    "execution": {
     "iopub.execute_input": "2023-01-11T01:21:45.431346Z",
     "iopub.status.busy": "2023-01-11T01:21:45.431346Z",
     "iopub.status.idle": "2023-01-11T01:21:45.441319Z",
     "shell.execute_reply": "2023-01-11T01:21:45.440322Z",
     "shell.execute_reply.started": "2023-01-11T01:21:45.431346Z"
    },
    "tags": []
   },
   "outputs": [
    {
     "data": {
      "text/plain": [
       "array([0.4625    , 0.45694444, 0.45833333, 0.45648148, 0.45601852,\n",
       "       0.48981481, 0.45046296, 0.45601852, 0.4462963 , 0.4837963 ])"
      ]
     },
     "execution_count": 12,
     "metadata": {},
     "output_type": "execute_result"
    }
   ],
   "source": [
    "np.asarray(acc_total).mean(axis = 1)\n",
    "np.asarray(acc_total_2).mean(axis = 1)"
   ]
  },
  {
   "cell_type": "code",
   "execution_count": 11,
   "id": "91a5666a-ccbe-41dd-aa70-3cd3810b2eda",
   "metadata": {
    "execution": {
     "iopub.execute_input": "2023-01-13T01:21:00.779987Z",
     "iopub.status.busy": "2023-01-13T01:21:00.779987Z",
     "iopub.status.idle": "2023-01-13T01:21:00.794946Z",
     "shell.execute_reply": "2023-01-13T01:21:00.793978Z",
     "shell.execute_reply.started": "2023-01-13T01:21:00.779987Z"
    },
    "tags": []
   },
   "outputs": [],
   "source": [
    "\n",
    "# pd.DataFrame({'number': np.arange(1,21)}).to_csv('result\\ROCKET_ACC_01_13.csv', index = 0)\n"
   ]
  },
  {
   "cell_type": "code",
   "execution_count": null,
   "id": "792d7021-7cd6-4bfd-964b-347af9071a62",
   "metadata": {
    "execution": {
     "iopub.execute_input": "2023-01-17T13:13:53.783063Z",
     "iopub.status.busy": "2023-01-17T13:13:53.783063Z",
     "iopub.status.idle": "2023-01-17T13:21:11.756421Z",
     "shell.execute_reply": "2023-01-17T13:21:11.755423Z",
     "shell.execute_reply.started": "2023-01-17T13:13:53.783063Z"
    },
    "scrolled": true,
    "tags": []
   },
   "outputs": [
    {
     "name": "stdout",
     "output_type": "stream",
     "text": [
      "alpha: 1.00E+01  train: 0.99537  valid: 0.70833\n",
      "[[2. 1. 1. 0.]\n",
      " [0. 7. 1. 0.]\n",
      " [0. 3. 2. 1.]\n",
      " [0. 0. 0. 6.]]\n",
      "alpha: 1.00E+01  train: 0.99537  valid: 0.62500\n",
      "[[ 3.  2.  1.  1.]\n",
      " [ 1. 13.  1.  1.]\n",
      " [ 1.  3.  5.  3.]\n",
      " [ 2.  0.  0. 11.]]\n",
      "alpha: 1.00E+01  train: 0.99537  valid: 0.75000\n",
      "[[ 3.  2.  2.  1.]\n",
      " [ 1. 20.  2.  1.]\n",
      " [ 2.  4.  6.  4.]\n",
      " [ 3.  0.  0. 21.]]\n",
      "alpha: 1.00E+01  train: 0.99537  valid: 0.79167\n",
      "[[ 7.  3.  2.  2.]\n",
      " [ 2. 24.  3.  1.]\n",
      " [ 2.  4. 12.  5.]\n",
      " [ 3.  0.  0. 26.]]\n",
      "alpha: 1.00E+01  train: 0.99537  valid: 0.75000\n",
      "[[13.  4.  3.  2.]\n",
      " [ 2. 30.  3.  2.]\n",
      " [ 2.  4. 16.  5.]\n",
      " [ 5.  0.  1. 28.]]\n",
      "alpha: 1.00E+01  train: 0.99537  valid: 0.79167\n",
      "[[18.  4.  3.  2.]\n",
      " [ 3. 36.  3.  2.]\n",
      " [ 3.  5. 18.  6.]\n",
      " [ 5.  1.  1. 34.]]\n"
     ]
    },
    {
     "ename": "KeyboardInterrupt",
     "evalue": "",
     "output_type": "error",
     "traceback": [
      "\u001b[1;31m---------------------------------------------------------------------------\u001b[0m",
      "\u001b[1;31mKeyboardInterrupt\u001b[0m                         Traceback (most recent call last)",
      "\u001b[1;32m~\\AppData\\Local\\Temp\\ipykernel_4968\\3104345549.py\u001b[0m in \u001b[0;36m<cell line: 13>\u001b[1;34m()\u001b[0m\n\u001b[0;32m     44\u001b[0m     \u001b[0mear_ele\u001b[0m \u001b[1;33m=\u001b[0m \u001b[0mnp\u001b[0m\u001b[1;33m.\u001b[0m\u001b[0masarray\u001b[0m\u001b[1;33m(\u001b[0m\u001b[0mtemp_ear_ele\u001b[0m\u001b[1;33m)\u001b[0m\u001b[1;33m\u001b[0m\u001b[1;33m\u001b[0m\u001b[0m\n\u001b[0;32m     45\u001b[0m     \u001b[1;31m# print(ear_ele.shape)\u001b[0m\u001b[1;33m\u001b[0m\u001b[1;33m\u001b[0m\u001b[0m\n\u001b[1;32m---> 46\u001b[1;33m     \u001b[0mtemp_acc\u001b[0m\u001b[1;33m,\u001b[0m \u001b[0mcf_matrix\u001b[0m \u001b[1;33m=\u001b[0m \u001b[0mcross_validation\u001b[0m\u001b[1;33m(\u001b[0m\u001b[0mear_ele\u001b[0m\u001b[1;33m,\u001b[0m \u001b[0my\u001b[0m\u001b[1;33m,\u001b[0m \u001b[0mcv_number\u001b[0m \u001b[1;33m=\u001b[0m \u001b[1;36m20\u001b[0m\u001b[1;33m,\u001b[0m \u001b[0mtest_size\u001b[0m \u001b[1;33m=\u001b[0m \u001b[1;36m0.1\u001b[0m\u001b[1;33m)\u001b[0m\u001b[1;33m\u001b[0m\u001b[1;33m\u001b[0m\u001b[0m\n\u001b[0m\u001b[0;32m     47\u001b[0m \u001b[1;31m#     pd.concat([pd.read_csv(r'result/ROCKET_ACC_01_13.csv', header = 0),pd.DataFrame(temp_acc, columns=[f'{time_in_sec}s'])],\u001b[0m\u001b[1;33m\u001b[0m\u001b[1;33m\u001b[0m\u001b[0m\n\u001b[0;32m     48\u001b[0m \u001b[1;31m#           axis = 1).to_csv(r'result/ROCKET_ACC_01_13.csv', index= None)\u001b[0m\u001b[1;33m\u001b[0m\u001b[1;33m\u001b[0m\u001b[0m\n",
      "\u001b[1;32m~\\AppData\\Local\\Temp\\ipykernel_4968\\1030698925.py\u001b[0m in \u001b[0;36mcross_validation\u001b[1;34m(x, y, cv_number, test_size)\u001b[0m\n\u001b[0;32m     15\u001b[0m         \u001b[0mmodel\u001b[0m \u001b[1;33m=\u001b[0m \u001b[0mts\u001b[0m\u001b[1;33m.\u001b[0m\u001b[0mbuild_ts_model\u001b[0m\u001b[1;33m(\u001b[0m\u001b[0mts\u001b[0m\u001b[1;33m.\u001b[0m\u001b[0mROCKET\u001b[0m\u001b[1;33m,\u001b[0m \u001b[0mdls\u001b[0m\u001b[1;33m=\u001b[0m\u001b[0mdls\u001b[0m\u001b[1;33m)\u001b[0m\u001b[1;33m\u001b[0m\u001b[1;33m\u001b[0m\u001b[0m\n\u001b[0;32m     16\u001b[0m \u001b[1;33m\u001b[0m\u001b[0m\n\u001b[1;32m---> 17\u001b[1;33m         \u001b[0mX_train\u001b[0m\u001b[1;33m,\u001b[0m \u001b[0my_train\u001b[0m \u001b[1;33m=\u001b[0m \u001b[0mts\u001b[0m\u001b[1;33m.\u001b[0m\u001b[0mcreate_rocket_features\u001b[0m\u001b[1;33m(\u001b[0m\u001b[0mdls\u001b[0m\u001b[1;33m.\u001b[0m\u001b[0mtrain\u001b[0m\u001b[1;33m,\u001b[0m \u001b[0mmodel\u001b[0m\u001b[1;33m)\u001b[0m\u001b[1;33m\u001b[0m\u001b[1;33m\u001b[0m\u001b[0m\n\u001b[0m\u001b[0;32m     18\u001b[0m         \u001b[0mX_valid\u001b[0m\u001b[1;33m,\u001b[0m \u001b[0my_valid\u001b[0m \u001b[1;33m=\u001b[0m \u001b[0mts\u001b[0m\u001b[1;33m.\u001b[0m\u001b[0mcreate_rocket_features\u001b[0m\u001b[1;33m(\u001b[0m\u001b[0mdls\u001b[0m\u001b[1;33m.\u001b[0m\u001b[0mvalid\u001b[0m\u001b[1;33m,\u001b[0m \u001b[0mmodel\u001b[0m\u001b[1;33m)\u001b[0m\u001b[1;33m\u001b[0m\u001b[1;33m\u001b[0m\u001b[0m\n\u001b[0;32m     19\u001b[0m         \u001b[0mX_train\u001b[0m\u001b[1;33m.\u001b[0m\u001b[0mshape\u001b[0m\u001b[1;33m,\u001b[0m \u001b[0mX_valid\u001b[0m\u001b[1;33m.\u001b[0m\u001b[0mshape\u001b[0m\u001b[1;33m\u001b[0m\u001b[1;33m\u001b[0m\u001b[0m\n",
      "\u001b[1;32mC:\\mambaforge\\envs\\TFenv\\lib\\site-packages\\tsai\\models\\ROCKET_Pytorch.py\u001b[0m in \u001b[0;36mcreate_rocket_features\u001b[1;34m(dl, model, verbose)\u001b[0m\n\u001b[0;32m     69\u001b[0m     \u001b[0m_y_out\u001b[0m \u001b[1;33m=\u001b[0m \u001b[1;33m[\u001b[0m\u001b[1;33m]\u001b[0m\u001b[1;33m\u001b[0m\u001b[1;33m\u001b[0m\u001b[0m\n\u001b[0;32m     70\u001b[0m     \u001b[1;32mfor\u001b[0m \u001b[0mi\u001b[0m\u001b[1;33m,\u001b[0m\u001b[1;33m(\u001b[0m\u001b[0mxb\u001b[0m\u001b[1;33m,\u001b[0m\u001b[0myb\u001b[0m\u001b[1;33m)\u001b[0m \u001b[1;32min\u001b[0m \u001b[0menumerate\u001b[0m\u001b[1;33m(\u001b[0m\u001b[0mprogress_bar\u001b[0m\u001b[1;33m(\u001b[0m\u001b[0mdl\u001b[0m\u001b[1;33m,\u001b[0m \u001b[0mdisplay\u001b[0m\u001b[1;33m=\u001b[0m\u001b[0mverbose\u001b[0m\u001b[1;33m,\u001b[0m \u001b[0mleave\u001b[0m\u001b[1;33m=\u001b[0m\u001b[1;32mFalse\u001b[0m\u001b[1;33m)\u001b[0m\u001b[1;33m)\u001b[0m\u001b[1;33m:\u001b[0m\u001b[1;33m\u001b[0m\u001b[1;33m\u001b[0m\u001b[0m\n\u001b[1;32m---> 71\u001b[1;33m         \u001b[0m_x_out\u001b[0m\u001b[1;33m.\u001b[0m\u001b[0mappend\u001b[0m\u001b[1;33m(\u001b[0m\u001b[0mmodel\u001b[0m\u001b[1;33m(\u001b[0m\u001b[0mxb\u001b[0m\u001b[1;33m)\u001b[0m\u001b[1;33m.\u001b[0m\u001b[0mcpu\u001b[0m\u001b[1;33m(\u001b[0m\u001b[1;33m)\u001b[0m\u001b[1;33m)\u001b[0m\u001b[1;33m\u001b[0m\u001b[1;33m\u001b[0m\u001b[0m\n\u001b[0m\u001b[0;32m     72\u001b[0m         \u001b[0m_y_out\u001b[0m\u001b[1;33m.\u001b[0m\u001b[0mappend\u001b[0m\u001b[1;33m(\u001b[0m\u001b[0myb\u001b[0m\u001b[1;33m.\u001b[0m\u001b[0mcpu\u001b[0m\u001b[1;33m(\u001b[0m\u001b[1;33m)\u001b[0m\u001b[1;33m)\u001b[0m\u001b[1;33m\u001b[0m\u001b[1;33m\u001b[0m\u001b[0m\n\u001b[0;32m     73\u001b[0m     \u001b[1;32mreturn\u001b[0m \u001b[0mtorch\u001b[0m\u001b[1;33m.\u001b[0m\u001b[0mcat\u001b[0m\u001b[1;33m(\u001b[0m\u001b[0m_x_out\u001b[0m\u001b[1;33m)\u001b[0m\u001b[1;33m.\u001b[0m\u001b[0mnumpy\u001b[0m\u001b[1;33m(\u001b[0m\u001b[1;33m)\u001b[0m\u001b[1;33m,\u001b[0m \u001b[0mtorch\u001b[0m\u001b[1;33m.\u001b[0m\u001b[0mcat\u001b[0m\u001b[1;33m(\u001b[0m\u001b[0m_y_out\u001b[0m\u001b[1;33m)\u001b[0m\u001b[1;33m.\u001b[0m\u001b[0mnumpy\u001b[0m\u001b[1;33m(\u001b[0m\u001b[1;33m)\u001b[0m\u001b[1;33m\u001b[0m\u001b[1;33m\u001b[0m\u001b[0m\n",
      "\u001b[1;32mC:\\mambaforge\\envs\\TFenv\\lib\\site-packages\\torch\\nn\\modules\\module.py\u001b[0m in \u001b[0;36m_call_impl\u001b[1;34m(self, *input, **kwargs)\u001b[0m\n\u001b[0;32m   1192\u001b[0m         if not (self._backward_hooks or self._forward_hooks or self._forward_pre_hooks or _global_backward_hooks\n\u001b[0;32m   1193\u001b[0m                 or _global_forward_hooks or _global_forward_pre_hooks):\n\u001b[1;32m-> 1194\u001b[1;33m             \u001b[1;32mreturn\u001b[0m \u001b[0mforward_call\u001b[0m\u001b[1;33m(\u001b[0m\u001b[1;33m*\u001b[0m\u001b[0minput\u001b[0m\u001b[1;33m,\u001b[0m \u001b[1;33m**\u001b[0m\u001b[0mkwargs\u001b[0m\u001b[1;33m)\u001b[0m\u001b[1;33m\u001b[0m\u001b[1;33m\u001b[0m\u001b[0m\n\u001b[0m\u001b[0;32m   1195\u001b[0m         \u001b[1;31m# Do not call functions when jit is used\u001b[0m\u001b[1;33m\u001b[0m\u001b[1;33m\u001b[0m\u001b[0m\n\u001b[0;32m   1196\u001b[0m         \u001b[0mfull_backward_hooks\u001b[0m\u001b[1;33m,\u001b[0m \u001b[0mnon_full_backward_hooks\u001b[0m \u001b[1;33m=\u001b[0m \u001b[1;33m[\u001b[0m\u001b[1;33m]\u001b[0m\u001b[1;33m,\u001b[0m \u001b[1;33m[\u001b[0m\u001b[1;33m]\u001b[0m\u001b[1;33m\u001b[0m\u001b[1;33m\u001b[0m\u001b[0m\n",
      "\u001b[1;32mC:\\mambaforge\\envs\\TFenv\\lib\\site-packages\\tsai\\models\\ROCKET_Pytorch.py\u001b[0m in \u001b[0;36mforward\u001b[1;34m(self, x)\u001b[0m\n\u001b[0;32m     53\u001b[0m         \u001b[0m_output\u001b[0m \u001b[1;33m=\u001b[0m \u001b[1;33m[\u001b[0m\u001b[1;33m]\u001b[0m\u001b[1;33m\u001b[0m\u001b[1;33m\u001b[0m\u001b[0m\n\u001b[0;32m     54\u001b[0m         \u001b[1;32mfor\u001b[0m \u001b[0mi\u001b[0m \u001b[1;32min\u001b[0m \u001b[0mprogress_bar\u001b[0m\u001b[1;33m(\u001b[0m\u001b[0mrange\u001b[0m\u001b[1;33m(\u001b[0m\u001b[0mself\u001b[0m\u001b[1;33m.\u001b[0m\u001b[0mn_kernels\u001b[0m\u001b[1;33m)\u001b[0m\u001b[1;33m,\u001b[0m \u001b[0mdisplay\u001b[0m\u001b[1;33m=\u001b[0m\u001b[0mself\u001b[0m\u001b[1;33m.\u001b[0m\u001b[0mverbose\u001b[0m\u001b[1;33m,\u001b[0m \u001b[0mleave\u001b[0m\u001b[1;33m=\u001b[0m\u001b[1;32mFalse\u001b[0m\u001b[1;33m)\u001b[0m\u001b[1;33m:\u001b[0m\u001b[1;33m\u001b[0m\u001b[1;33m\u001b[0m\u001b[0m\n\u001b[1;32m---> 55\u001b[1;33m             \u001b[0mout\u001b[0m \u001b[1;33m=\u001b[0m \u001b[0mself\u001b[0m\u001b[1;33m.\u001b[0m\u001b[0mconvs\u001b[0m\u001b[1;33m[\u001b[0m\u001b[0mi\u001b[0m\u001b[1;33m]\u001b[0m\u001b[1;33m(\u001b[0m\u001b[0mx\u001b[0m\u001b[1;33m)\u001b[0m\u001b[1;33m.\u001b[0m\u001b[0mcpu\u001b[0m\u001b[1;33m(\u001b[0m\u001b[1;33m)\u001b[0m\u001b[1;33m\u001b[0m\u001b[1;33m\u001b[0m\u001b[0m\n\u001b[0m\u001b[0;32m     56\u001b[0m             \u001b[0m_max\u001b[0m \u001b[1;33m=\u001b[0m \u001b[0mout\u001b[0m\u001b[1;33m.\u001b[0m\u001b[0mmax\u001b[0m\u001b[1;33m(\u001b[0m\u001b[0mdim\u001b[0m\u001b[1;33m=\u001b[0m\u001b[1;33m-\u001b[0m\u001b[1;36m1\u001b[0m\u001b[1;33m)\u001b[0m\u001b[1;33m[\u001b[0m\u001b[1;36m0\u001b[0m\u001b[1;33m]\u001b[0m\u001b[1;33m\u001b[0m\u001b[1;33m\u001b[0m\u001b[0m\n\u001b[0;32m     57\u001b[0m             \u001b[0m_ppv\u001b[0m \u001b[1;33m=\u001b[0m \u001b[0mtorch\u001b[0m\u001b[1;33m.\u001b[0m\u001b[0mgt\u001b[0m\u001b[1;33m(\u001b[0m\u001b[0mout\u001b[0m\u001b[1;33m,\u001b[0m \u001b[1;36m0\u001b[0m\u001b[1;33m)\u001b[0m\u001b[1;33m.\u001b[0m\u001b[0msum\u001b[0m\u001b[1;33m(\u001b[0m\u001b[0mdim\u001b[0m\u001b[1;33m=\u001b[0m\u001b[1;33m-\u001b[0m\u001b[1;36m1\u001b[0m\u001b[1;33m)\u001b[0m\u001b[1;33m.\u001b[0m\u001b[0mfloat\u001b[0m\u001b[1;33m(\u001b[0m\u001b[1;33m)\u001b[0m \u001b[1;33m/\u001b[0m \u001b[0mout\u001b[0m\u001b[1;33m.\u001b[0m\u001b[0mshape\u001b[0m\u001b[1;33m[\u001b[0m\u001b[1;33m-\u001b[0m\u001b[1;36m1\u001b[0m\u001b[1;33m]\u001b[0m\u001b[1;33m\u001b[0m\u001b[1;33m\u001b[0m\u001b[0m\n",
      "\u001b[1;32mC:\\mambaforge\\envs\\TFenv\\lib\\site-packages\\fastai\\torch_core.py\u001b[0m in \u001b[0;36m__torch_function__\u001b[1;34m(cls, func, types, args, kwargs)\u001b[0m\n\u001b[0;32m    376\u001b[0m         \u001b[1;32mif\u001b[0m \u001b[0mcls\u001b[0m\u001b[1;33m.\u001b[0m\u001b[0mdebug\u001b[0m \u001b[1;32mand\u001b[0m \u001b[0mfunc\u001b[0m\u001b[1;33m.\u001b[0m\u001b[0m__name__\u001b[0m \u001b[1;32mnot\u001b[0m \u001b[1;32min\u001b[0m \u001b[1;33m(\u001b[0m\u001b[1;34m'__str__'\u001b[0m\u001b[1;33m,\u001b[0m\u001b[1;34m'__repr__'\u001b[0m\u001b[1;33m)\u001b[0m\u001b[1;33m:\u001b[0m \u001b[0mprint\u001b[0m\u001b[1;33m(\u001b[0m\u001b[0mfunc\u001b[0m\u001b[1;33m,\u001b[0m \u001b[0mtypes\u001b[0m\u001b[1;33m,\u001b[0m \u001b[0margs\u001b[0m\u001b[1;33m,\u001b[0m \u001b[0mkwargs\u001b[0m\u001b[1;33m)\u001b[0m\u001b[1;33m\u001b[0m\u001b[1;33m\u001b[0m\u001b[0m\n\u001b[0;32m    377\u001b[0m         \u001b[1;32mif\u001b[0m \u001b[0m_torch_handled\u001b[0m\u001b[1;33m(\u001b[0m\u001b[0margs\u001b[0m\u001b[1;33m,\u001b[0m \u001b[0mcls\u001b[0m\u001b[1;33m.\u001b[0m\u001b[0m_opt\u001b[0m\u001b[1;33m,\u001b[0m \u001b[0mfunc\u001b[0m\u001b[1;33m)\u001b[0m\u001b[1;33m:\u001b[0m \u001b[0mtypes\u001b[0m \u001b[1;33m=\u001b[0m \u001b[1;33m(\u001b[0m\u001b[0mtorch\u001b[0m\u001b[1;33m.\u001b[0m\u001b[0mTensor\u001b[0m\u001b[1;33m,\u001b[0m\u001b[1;33m)\u001b[0m\u001b[1;33m\u001b[0m\u001b[1;33m\u001b[0m\u001b[0m\n\u001b[1;32m--> 378\u001b[1;33m         \u001b[0mres\u001b[0m \u001b[1;33m=\u001b[0m \u001b[0msuper\u001b[0m\u001b[1;33m(\u001b[0m\u001b[1;33m)\u001b[0m\u001b[1;33m.\u001b[0m\u001b[0m__torch_function__\u001b[0m\u001b[1;33m(\u001b[0m\u001b[0mfunc\u001b[0m\u001b[1;33m,\u001b[0m \u001b[0mtypes\u001b[0m\u001b[1;33m,\u001b[0m \u001b[0margs\u001b[0m\u001b[1;33m,\u001b[0m \u001b[0mifnone\u001b[0m\u001b[1;33m(\u001b[0m\u001b[0mkwargs\u001b[0m\u001b[1;33m,\u001b[0m \u001b[1;33m{\u001b[0m\u001b[1;33m}\u001b[0m\u001b[1;33m)\u001b[0m\u001b[1;33m)\u001b[0m\u001b[1;33m\u001b[0m\u001b[1;33m\u001b[0m\u001b[0m\n\u001b[0m\u001b[0;32m    379\u001b[0m         \u001b[0mdict_objs\u001b[0m \u001b[1;33m=\u001b[0m \u001b[0m_find_args\u001b[0m\u001b[1;33m(\u001b[0m\u001b[0margs\u001b[0m\u001b[1;33m)\u001b[0m \u001b[1;32mif\u001b[0m \u001b[0margs\u001b[0m \u001b[1;32melse\u001b[0m \u001b[0m_find_args\u001b[0m\u001b[1;33m(\u001b[0m\u001b[0mlist\u001b[0m\u001b[1;33m(\u001b[0m\u001b[0mkwargs\u001b[0m\u001b[1;33m.\u001b[0m\u001b[0mvalues\u001b[0m\u001b[1;33m(\u001b[0m\u001b[1;33m)\u001b[0m\u001b[1;33m)\u001b[0m\u001b[1;33m)\u001b[0m\u001b[1;33m\u001b[0m\u001b[1;33m\u001b[0m\u001b[0m\n\u001b[0;32m    380\u001b[0m         \u001b[1;32mif\u001b[0m \u001b[0missubclass\u001b[0m\u001b[1;33m(\u001b[0m\u001b[0mtype\u001b[0m\u001b[1;33m(\u001b[0m\u001b[0mres\u001b[0m\u001b[1;33m)\u001b[0m\u001b[1;33m,\u001b[0m\u001b[0mTensorBase\u001b[0m\u001b[1;33m)\u001b[0m \u001b[1;32mand\u001b[0m \u001b[0mdict_objs\u001b[0m\u001b[1;33m:\u001b[0m \u001b[0mres\u001b[0m\u001b[1;33m.\u001b[0m\u001b[0mset_meta\u001b[0m\u001b[1;33m(\u001b[0m\u001b[0mdict_objs\u001b[0m\u001b[1;33m[\u001b[0m\u001b[1;36m0\u001b[0m\u001b[1;33m]\u001b[0m\u001b[1;33m,\u001b[0m\u001b[0mas_copy\u001b[0m\u001b[1;33m=\u001b[0m\u001b[1;32mTrue\u001b[0m\u001b[1;33m)\u001b[0m\u001b[1;33m\u001b[0m\u001b[1;33m\u001b[0m\u001b[0m\n",
      "\u001b[1;32mC:\\mambaforge\\envs\\TFenv\\lib\\site-packages\\torch\\_tensor.py\u001b[0m in \u001b[0;36m__torch_function__\u001b[1;34m(cls, func, types, args, kwargs)\u001b[0m\n\u001b[0;32m   1277\u001b[0m \u001b[1;33m\u001b[0m\u001b[0m\n\u001b[0;32m   1278\u001b[0m         \u001b[1;32mwith\u001b[0m \u001b[0m_C\u001b[0m\u001b[1;33m.\u001b[0m\u001b[0mDisableTorchFunction\u001b[0m\u001b[1;33m(\u001b[0m\u001b[1;33m)\u001b[0m\u001b[1;33m:\u001b[0m\u001b[1;33m\u001b[0m\u001b[1;33m\u001b[0m\u001b[0m\n\u001b[1;32m-> 1279\u001b[1;33m             \u001b[0mret\u001b[0m \u001b[1;33m=\u001b[0m \u001b[0mfunc\u001b[0m\u001b[1;33m(\u001b[0m\u001b[1;33m*\u001b[0m\u001b[0margs\u001b[0m\u001b[1;33m,\u001b[0m \u001b[1;33m**\u001b[0m\u001b[0mkwargs\u001b[0m\u001b[1;33m)\u001b[0m\u001b[1;33m\u001b[0m\u001b[1;33m\u001b[0m\u001b[0m\n\u001b[0m\u001b[0;32m   1280\u001b[0m             \u001b[1;32mif\u001b[0m \u001b[0mfunc\u001b[0m \u001b[1;32min\u001b[0m \u001b[0mget_default_nowrap_functions\u001b[0m\u001b[1;33m(\u001b[0m\u001b[1;33m)\u001b[0m\u001b[1;33m:\u001b[0m\u001b[1;33m\u001b[0m\u001b[1;33m\u001b[0m\u001b[0m\n\u001b[0;32m   1281\u001b[0m                 \u001b[1;32mreturn\u001b[0m \u001b[0mret\u001b[0m\u001b[1;33m\u001b[0m\u001b[1;33m\u001b[0m\u001b[0m\n",
      "\u001b[1;31mKeyboardInterrupt\u001b[0m: "
     ]
    }
   ],
   "source": [
    "srate = 2000\n",
    "new_srate = 200\n",
    "ele_original = pd.read_csv('data/ele_4_60_hz.csv', header = None, index_col = None).to_numpy()\n",
    "# shape = (4, 15, 2, 20000, 14)\n",
    "\n",
    "mask = np.unique(np.array(list(range(5,59,5))+\n",
    "                          list(range(7,59,7))+\n",
    "                          list(range(9,59,9))+\n",
    "                          list(range(11,59,11))))-2\n",
    "data = []\n",
    "total_acc = []\n",
    "for time_in_sec in [4]:\n",
    "    sec = time_in_sec # time step length\n",
    "    if 9%time_in_sec ==0:\n",
    "        ele = np.reshape(\n",
    "            ele_original, (20000,15,4,2,14), order = 'F').\\\n",
    "                transpose([2,1,3,0,4])[:,:,:,srate::srate//new_srate,:]\n",
    "    else:\n",
    "        ele = np.reshape(\n",
    "            ele_original, (20000,15,4,2,14), order = 'F').\\\n",
    "                transpose([2,1,3,0,4])[:,:,:,srate:-srate:srate//new_srate,:]\n",
    "        \n",
    "    ear_ele = ele[...,:8].astype(np.float32).reshape(-1,int(200 * sec),8).transpose([0,2,1])\n",
    "    y = np.repeat([0,1,2,3], int(ear_ele.shape[0]/4))\n",
    "    \n",
    "    # z-score\n",
    "    ear_ele = (ear_ele - ear_ele.mean(axis = 2)[...,np.newaxis])\\\n",
    "                    /ear_ele.std(axis = 2)[...,np.newaxis]\n",
    "\n",
    "\n",
    "\n",
    "\n",
    "    # time frequency analysis for ear-EEG\n",
    "    temp_ear_ele = []\n",
    "    for flame in ear_ele:\n",
    "        _,_,temp = time_frequency_analysis(\n",
    "            flame.T, srate = new_srate, max_freq = 60, min_freq = 2, num_freq = 59, fwhm = 0.75 * time_in_sec)\n",
    "        # _,_,temp = time_frequency_analysis_output_1s(\n",
    "        #     i.T, srate = new_srate, max_freq = 60, min_freq = 2, num_freq = 59, fwhm = 1)    \n",
    "        temp_ear_ele.append(temp)\n",
    "    \n",
    "    # if use mask\n",
    "    ear_ele = np.asarray(temp_ear_ele)\n",
    "    # print(ear_ele.shape)\n",
    "    temp_acc, cf_matrix = cross_validation(ear_ele, y, cv_number = 20, test_size = 0.1)\n",
    "#     pd.concat([pd.read_csv(r'result/ROCKET_ACC_01_13.csv', header = 0),pd.DataFrame(temp_acc, columns=[f'{time_in_sec}s'])], \n",
    "#           axis = 1).to_csv(r'result/ROCKET_ACC_01_13.csv', index= None)\n",
    "    \n",
    "#     pd.DataFrame(cf_matrix).to_csv(\n",
    "#         r'C:\\MY\\matlab\\SSVEP\\seesion2\\result\\ROCKET_cfmatrix_01_13.csv', \n",
    "#         mode = 'a', index = None, header = None)\n",
    "    total_acc.append(temp_acc)"
   ]
  }
 ],
 "metadata": {
  "kernelspec": {
   "display_name": "Python 3 (ipykernel)",
   "language": "python",
   "name": "python3"
  },
  "language_info": {
   "codemirror_mode": {
    "name": "ipython",
    "version": 3
   },
   "file_extension": ".py",
   "mimetype": "text/x-python",
   "name": "python",
   "nbconvert_exporter": "python",
   "pygments_lexer": "ipython3",
   "version": "3.10.8"
  }
 },
 "nbformat": 4,
 "nbformat_minor": 5
}
